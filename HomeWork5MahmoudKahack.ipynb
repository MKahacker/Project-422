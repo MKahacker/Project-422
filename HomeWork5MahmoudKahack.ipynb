{
 "cells": [
  {
   "cell_type": "markdown",
   "metadata": {},
   "source": [
    "7a) The limit as m approaches infinity is equal to $t_c$. For 0.05 significant level the limit equals 93. \n",
    "\n",
    "7b) The g distribution approaches a t-distribution as m increases.\n",
    "\n",
    "8a) The number depends on whether a single tail or a double tail definition i used for the 3rd standard deviation test. If it is a single tail than the probability is 0.00135 and there are 1350 outliers. The double tail probability is 0.0027 and that means we have 2700 outliers.\n",
    "\n",
    "8b) We want to increase the threshold for outliers in large datasets because with the standard definitions there are too many outliers. Thus in order to work with huge datasets we have to make the restrictions more strict.\n",
    "\n",
    "9) $$\\log{f(x)} = \\log {\\frac{1}{\\sqrt{\\sqrt{2\\pi}^m|\\sum|^{\\frac{1}{2}}}}} - \\frac{1}{2}(x-\\mu)\\sum^{-1}(x-\\mu)^{T}$$\n",
    "= $$ -\\log {\\frac{1}{\\sqrt{\\sqrt{2\\pi}^m|S|^{\\frac{1}{2}}}}} - \\frac{1}{2}(x-\\bar{x})S^{-1}(x-\\bar{x})^{T}$$\n",
    "\n",
    "11a) The reason that the outlier score is higher, is because the mean is slightly higher than the center of the compat cluster.\n",
    "\n",
    "11b) If the number of clusters is much larger than the point at the top will be its own cluster.\n",
    "\n",
    "11c) Sometimes you shouldn't adjust distance to account for differences in density. This is especially important in cases where distance is important. In that case adjusting relative distance leads to wrong classification.\n",
    "\n",
    "12) detection rate is 99% and false alarm rate is 50%.\n",
    "\n",
    "16) If you have a uniform distribution you cannot really use this definition of infrequent values as being outliers because the uniform distribution normalize all the data. "
   ]
  }
 ],
 "metadata": {
  "kernelspec": {
   "display_name": "Python 3",
   "language": "python",
   "name": "python3"
  },
  "language_info": {
   "codemirror_mode": {
    "name": "ipython",
    "version": 3
   },
   "file_extension": ".py",
   "mimetype": "text/x-python",
   "name": "python",
   "nbconvert_exporter": "python",
   "pygments_lexer": "ipython3",
   "version": "3.6.8"
  }
 },
 "nbformat": 4,
 "nbformat_minor": 2
}
