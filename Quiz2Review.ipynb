{
 "cells": [
  {
   "cell_type": "markdown",
   "metadata": {},
   "source": [
    "## Page Rank. \n",
    "\n",
    "a page's rank $r_j = \\sum_{i->j}\\frac{r_i}{d_i}$\n",
    "where $r_i$ is the rank of the ith page that links to j and $d_i$ is the degree of outlinks coming out of i.\n",
    "\n",
    "We use a stochastic matrix M to represent the flow on the web. Where if i -> j than $M_{ij} = \\frac{1}{d_i}$ else it is zero. The decomposition of M produces the direction of the flow of the web and tells us the most important pages. \n",
    "We do this by \n",
    "\n",
    "intializing $r^{(0)}$ = $[1/N, 1/N,..., 1/N]^T$ where N is the number of pages/nodes\n",
    "\n",
    "than iterate through $r^{(t+1)}$ = M x $r^{(t)}$\n",
    "\n",
    "stop when |$r^{(t+1)}$ - $r^{(t)}$ | < $\\epsilon$\n",
    "\n",
    "Power Iteration has a short cut\n",
    "$$r^k = M^k r^0 $$"
   ]
  },
  {
   "cell_type": "markdown",
   "metadata": {},
   "source": [
    "Dead ends are pages with no out links. They are a problem for pagerank. Such pages cause importatance to leak out.\n",
    "\n",
    "Spider traps are groups of connected pages that don't have links to outside the group. Spider traps skew the PageRank scores\n",
    "\n",
    "\n",
    "To solve spider traps we establish a prob. b where we teleport when prob (1-b).\n",
    "\n",
    "At dead ends randomly teleport.\n"
   ]
  }
 ],
 "metadata": {
  "kernelspec": {
   "display_name": "Python 3",
   "language": "python",
   "name": "python3"
  },
  "language_info": {
   "codemirror_mode": {
    "name": "ipython",
    "version": 3
   },
   "file_extension": ".py",
   "mimetype": "text/x-python",
   "name": "python",
   "nbconvert_exporter": "python",
   "pygments_lexer": "ipython3",
   "version": "3.6.8"
  }
 },
 "nbformat": 4,
 "nbformat_minor": 2
}
