{
 "cells": [
  {
   "cell_type": "code",
   "execution_count": 1,
   "metadata": {},
   "outputs": [],
   "source": [
    "import os\n",
    "\n",
    "import numpy as np\n",
    "import pandas as pd\n",
    "\n",
    "\n",
    "import matplotlib.pyplot as plt\n",
    "%matplotlib inline\n",
    "\n",
    "import seaborn as sns\n",
    "\n",
    "from sklearn.datasets import load_iris\n",
    "from sklearn.ensemble import RandomForestClassifier\n",
    "\n",
    "from sklearn.impute import SimpleImputer\n",
    "from sklearn.preprocessing import StandardScaler\n",
    "from sklearn.model_selection import train_test_split, GridSearchCV, KFold\n",
    "from sklearn import linear_model, decomposition, datasets, metrics\n",
    "\n",
    "from sklearn.tree import DecisionTreeClassifier\n",
    "\n",
    "from sklearn.compose import ColumnTransformer\n",
    "from sklearn.pipeline import Pipeline\n",
    "\n",
    "\n",
    "from skl2onnx.common.data_types import FloatTensorType\n",
    "from skl2onnx import convert_sklearn\n",
    "import skl2onnx as sklo\n",
    "\n",
    "import onnxruntime as rt\n",
    "\n",
    "\n",
    "from onnx.tools.net_drawer import GetPydotGraph, GetOpNodeProducer"
   ]
  },
  {
   "cell_type": "code",
   "execution_count": 3,
   "metadata": {},
   "outputs": [],
   "source": [
    "public_data = pd.read_csv('data_public.csv')\n"
   ]
  },
  {
   "cell_type": "markdown",
   "metadata": {},
   "source": [
    "## Abstract - Research summary, findings, and next steps\n",
    "\n",
    "I found through investigation of the data that a lot of the columns are directly or indirectly correlated with the class. The contigency tables for N and O especially with the Class have 100% fscore, 100% recall, and 100% precision. N and O's correlation with most of the other 14 features is high. Thus by taking out completely correlated features I can reduce the dimensionality of the data. The other way I was thinking of reducing dimesionality is by doing PCA. Using this method identifies that 97% of the variance lies within the 1st and 2nd components. Thus we can reduce dimensionality from 16 to 2 features. Using the data we were given with a 30/70 split I can get a 100% prediction rate for using PCA and a RandomForest. The model makes an assumption that population data will have similar variance to the sample data. Thus reducing dimensionality with PCA and then putting it in a random forest will provide a good estimation of the classes. The model is trained on a k-fold validation that provides the best fscores for the model. Fscore is used because it provides a more complete picture as compared to recall or precision alone. Scaling doesn't achieve much. PCA performed with 2 components gives 100% recall, precision, accuracy, and fscore. This is because the first 2 components capture all of the variance. In this case since most fo the columns are correlated the variance will be correlated with class. This can be seen in the k-fold cross-validation. Specifically when I use the first 2 components of PCA. This allows the model to achieve a 100% true positive rate while reducing the false positive rate to 0%. This seems very fishy but its mainly due to the correlations between the class and the other features. The k-fold validation does seem to show that even on outside data the model is at 100%. This could again be attributed to biases in the data as the data is to homogenous with the target feature. The next steps is to test the model on an outside dataset and get an idea about the biases found inside the given data."
   ]
  },
  {
   "cell_type": "markdown",
   "metadata": {},
   "source": [
    "## Overview - Problem statement, relevant literature, proposed methodology\n",
    "The problem statement is to make a model that is able to indentify the target in the dataset very accurately. Considering that this is a classification problem Tan's chapter on classifier would play an important role in developing this model. A decision tree classifier is a main part of the strategy because this was the clasifier that was most discussed in class. The other reason that decision tree classifiers were considered were the great results that they produced in identifying the classes probably. \n"
   ]
  },
  {
   "cell_type": "code",
   "execution_count": 4,
   "metadata": {},
   "outputs": [
    {
     "data": {
      "text/html": [
       "<div>\n",
       "<style scoped>\n",
       "    .dataframe tbody tr th:only-of-type {\n",
       "        vertical-align: middle;\n",
       "    }\n",
       "\n",
       "    .dataframe tbody tr th {\n",
       "        vertical-align: top;\n",
       "    }\n",
       "\n",
       "    .dataframe thead th {\n",
       "        text-align: right;\n",
       "    }\n",
       "</style>\n",
       "<table border=\"1\" class=\"dataframe\">\n",
       "  <thead>\n",
       "    <tr style=\"text-align: right;\">\n",
       "      <th></th>\n",
       "      <th>A</th>\n",
       "      <th>B</th>\n",
       "      <th>C</th>\n",
       "      <th>D</th>\n",
       "      <th>E</th>\n",
       "      <th>F</th>\n",
       "      <th>G</th>\n",
       "      <th>H</th>\n",
       "      <th>I</th>\n",
       "      <th>J</th>\n",
       "      <th>K</th>\n",
       "      <th>L</th>\n",
       "      <th>M</th>\n",
       "      <th>N</th>\n",
       "      <th>O</th>\n",
       "      <th>Class</th>\n",
       "    </tr>\n",
       "  </thead>\n",
       "  <tbody>\n",
       "    <tr>\n",
       "      <th>count</th>\n",
       "      <td>1.200000e+06</td>\n",
       "      <td>1.200000e+06</td>\n",
       "      <td>1.200000e+06</td>\n",
       "      <td>1.200000e+06</td>\n",
       "      <td>1.200000e+06</td>\n",
       "      <td>1.200000e+06</td>\n",
       "      <td>1.200000e+06</td>\n",
       "      <td>1.200000e+06</td>\n",
       "      <td>1.200000e+06</td>\n",
       "      <td>1.200000e+06</td>\n",
       "      <td>1.200000e+06</td>\n",
       "      <td>1.200000e+06</td>\n",
       "      <td>1.200000e+06</td>\n",
       "      <td>1.200000e+06</td>\n",
       "      <td>1.200000e+06</td>\n",
       "      <td>1.200000e+06</td>\n",
       "    </tr>\n",
       "    <tr>\n",
       "      <th>mean</th>\n",
       "      <td>5.068656e+01</td>\n",
       "      <td>-1.883373e+01</td>\n",
       "      <td>7.162152e+01</td>\n",
       "      <td>-1.355120e+01</td>\n",
       "      <td>2.944177e+01</td>\n",
       "      <td>-6.185189e+00</td>\n",
       "      <td>3.174186e+01</td>\n",
       "      <td>5.112504e+01</td>\n",
       "      <td>3.300077e+01</td>\n",
       "      <td>4.092546e+01</td>\n",
       "      <td>7.938340e+01</td>\n",
       "      <td>-6.746540e+00</td>\n",
       "      <td>-4.232290e+01</td>\n",
       "      <td>4.949012e+01</td>\n",
       "      <td>5.980333e+01</td>\n",
       "      <td>2.166636e+00</td>\n",
       "    </tr>\n",
       "    <tr>\n",
       "      <th>std</th>\n",
       "      <td>1.292492e+02</td>\n",
       "      <td>1.446355e+01</td>\n",
       "      <td>1.052808e+02</td>\n",
       "      <td>4.689774e+01</td>\n",
       "      <td>7.282278e+01</td>\n",
       "      <td>7.309100e+01</td>\n",
       "      <td>6.660329e+01</td>\n",
       "      <td>1.034053e+02</td>\n",
       "      <td>4.217119e+01</td>\n",
       "      <td>7.694386e+01</td>\n",
       "      <td>9.484003e+01</td>\n",
       "      <td>1.557490e+01</td>\n",
       "      <td>1.791142e+01</td>\n",
       "      <td>6.728231e+01</td>\n",
       "      <td>6.677712e+01</td>\n",
       "      <td>6.872945e-01</td>\n",
       "    </tr>\n",
       "    <tr>\n",
       "      <th>min</th>\n",
       "      <td>-7.308940e+01</td>\n",
       "      <td>-8.322357e+01</td>\n",
       "      <td>-5.972853e+01</td>\n",
       "      <td>-1.375818e+02</td>\n",
       "      <td>-3.829826e+01</td>\n",
       "      <td>-1.485917e+02</td>\n",
       "      <td>-6.654137e+01</td>\n",
       "      <td>-4.246089e+01</td>\n",
       "      <td>-1.818542e+01</td>\n",
       "      <td>-1.123844e+02</td>\n",
       "      <td>-1.415233e+01</td>\n",
       "      <td>-6.271828e+01</td>\n",
       "      <td>-8.144988e+01</td>\n",
       "      <td>-2.057979e+01</td>\n",
       "      <td>-1.283059e+01</td>\n",
       "      <td>1.000000e+00</td>\n",
       "    </tr>\n",
       "    <tr>\n",
       "      <th>25%</th>\n",
       "      <td>-3.793679e+01</td>\n",
       "      <td>-1.786669e+01</td>\n",
       "      <td>7.553164e+00</td>\n",
       "      <td>-1.471337e+01</td>\n",
       "      <td>-2.436286e+01</td>\n",
       "      <td>-3.072492e+01</td>\n",
       "      <td>-3.484185e+00</td>\n",
       "      <td>-2.629661e+01</td>\n",
       "      <td>-7.594991e+00</td>\n",
       "      <td>2.108044e+01</td>\n",
       "      <td>2.419273e+00</td>\n",
       "      <td>-8.875128e+00</td>\n",
       "      <td>-5.567326e+01</td>\n",
       "      <td>-7.131906e+00</td>\n",
       "      <td>1.628438e-01</td>\n",
       "      <td>2.000000e+00</td>\n",
       "    </tr>\n",
       "    <tr>\n",
       "      <th>50%</th>\n",
       "      <td>-3.197847e+01</td>\n",
       "      <td>-1.369876e+01</td>\n",
       "      <td>1.348796e+01</td>\n",
       "      <td>-8.004308e+00</td>\n",
       "      <td>-1.897058e+01</td>\n",
       "      <td>-2.475391e+01</td>\n",
       "      <td>1.491431e+00</td>\n",
       "      <td>-1.817028e+01</td>\n",
       "      <td>3.769369e+01</td>\n",
       "      <td>2.717432e+01</td>\n",
       "      <td>2.652955e+01</td>\n",
       "      <td>-1.079123e+00</td>\n",
       "      <td>-5.297585e+01</td>\n",
       "      <td>1.462293e+01</td>\n",
       "      <td>4.689262e+01</td>\n",
       "      <td>2.000000e+00</td>\n",
       "    </tr>\n",
       "    <tr>\n",
       "      <th>75%</th>\n",
       "      <td>2.280020e+02</td>\n",
       "      <td>-1.055606e+01</td>\n",
       "      <td>2.123439e+02</td>\n",
       "      <td>1.955806e+01</td>\n",
       "      <td>1.289018e+02</td>\n",
       "      <td>7.834417e+01</td>\n",
       "      <td>1.151840e+02</td>\n",
       "      <td>1.915891e+02</td>\n",
       "      <td>7.984842e+01</td>\n",
       "      <td>1.253846e+02</td>\n",
       "      <td>2.046458e+02</td>\n",
       "      <td>3.334451e+00</td>\n",
       "      <td>-2.208504e+01</td>\n",
       "      <td>1.363603e+02</td>\n",
       "      <td>1.451293e+02</td>\n",
       "      <td>3.000000e+00</td>\n",
       "    </tr>\n",
       "    <tr>\n",
       "      <th>max</th>\n",
       "      <td>2.687738e+02</td>\n",
       "      <td>4.460108e+00</td>\n",
       "      <td>2.561698e+02</td>\n",
       "      <td>3.263799e+01</td>\n",
       "      <td>1.579843e+02</td>\n",
       "      <td>1.229186e+02</td>\n",
       "      <td>1.660534e+02</td>\n",
       "      <td>2.329496e+02</td>\n",
       "      <td>1.112970e+02</td>\n",
       "      <td>1.755397e+02</td>\n",
       "      <td>2.598003e+02</td>\n",
       "      <td>2.159496e+01</td>\n",
       "      <td>1.032828e+01</td>\n",
       "      <td>1.789303e+02</td>\n",
       "      <td>1.807011e+02</td>\n",
       "      <td>3.000000e+00</td>\n",
       "    </tr>\n",
       "  </tbody>\n",
       "</table>\n",
       "</div>"
      ],
      "text/plain": [
       "                  A             B             C             D             E  \\\n",
       "count  1.200000e+06  1.200000e+06  1.200000e+06  1.200000e+06  1.200000e+06   \n",
       "mean   5.068656e+01 -1.883373e+01  7.162152e+01 -1.355120e+01  2.944177e+01   \n",
       "std    1.292492e+02  1.446355e+01  1.052808e+02  4.689774e+01  7.282278e+01   \n",
       "min   -7.308940e+01 -8.322357e+01 -5.972853e+01 -1.375818e+02 -3.829826e+01   \n",
       "25%   -3.793679e+01 -1.786669e+01  7.553164e+00 -1.471337e+01 -2.436286e+01   \n",
       "50%   -3.197847e+01 -1.369876e+01  1.348796e+01 -8.004308e+00 -1.897058e+01   \n",
       "75%    2.280020e+02 -1.055606e+01  2.123439e+02  1.955806e+01  1.289018e+02   \n",
       "max    2.687738e+02  4.460108e+00  2.561698e+02  3.263799e+01  1.579843e+02   \n",
       "\n",
       "                  F             G             H             I             J  \\\n",
       "count  1.200000e+06  1.200000e+06  1.200000e+06  1.200000e+06  1.200000e+06   \n",
       "mean  -6.185189e+00  3.174186e+01  5.112504e+01  3.300077e+01  4.092546e+01   \n",
       "std    7.309100e+01  6.660329e+01  1.034053e+02  4.217119e+01  7.694386e+01   \n",
       "min   -1.485917e+02 -6.654137e+01 -4.246089e+01 -1.818542e+01 -1.123844e+02   \n",
       "25%   -3.072492e+01 -3.484185e+00 -2.629661e+01 -7.594991e+00  2.108044e+01   \n",
       "50%   -2.475391e+01  1.491431e+00 -1.817028e+01  3.769369e+01  2.717432e+01   \n",
       "75%    7.834417e+01  1.151840e+02  1.915891e+02  7.984842e+01  1.253846e+02   \n",
       "max    1.229186e+02  1.660534e+02  2.329496e+02  1.112970e+02  1.755397e+02   \n",
       "\n",
       "                  K             L             M             N             O  \\\n",
       "count  1.200000e+06  1.200000e+06  1.200000e+06  1.200000e+06  1.200000e+06   \n",
       "mean   7.938340e+01 -6.746540e+00 -4.232290e+01  4.949012e+01  5.980333e+01   \n",
       "std    9.484003e+01  1.557490e+01  1.791142e+01  6.728231e+01  6.677712e+01   \n",
       "min   -1.415233e+01 -6.271828e+01 -8.144988e+01 -2.057979e+01 -1.283059e+01   \n",
       "25%    2.419273e+00 -8.875128e+00 -5.567326e+01 -7.131906e+00  1.628438e-01   \n",
       "50%    2.652955e+01 -1.079123e+00 -5.297585e+01  1.462293e+01  4.689262e+01   \n",
       "75%    2.046458e+02  3.334451e+00 -2.208504e+01  1.363603e+02  1.451293e+02   \n",
       "max    2.598003e+02  2.159496e+01  1.032828e+01  1.789303e+02  1.807011e+02   \n",
       "\n",
       "              Class  \n",
       "count  1.200000e+06  \n",
       "mean   2.166636e+00  \n",
       "std    6.872945e-01  \n",
       "min    1.000000e+00  \n",
       "25%    2.000000e+00  \n",
       "50%    2.000000e+00  \n",
       "75%    3.000000e+00  \n",
       "max    3.000000e+00  "
      ]
     },
     "execution_count": 4,
     "metadata": {},
     "output_type": "execute_result"
    }
   ],
   "source": [
    "public_data.describe()"
   ]
  },
  {
   "cell_type": "code",
   "execution_count": 23,
   "metadata": {},
   "outputs": [
    {
     "data": {
      "text/html": [
       "<div>\n",
       "<style scoped>\n",
       "    .dataframe tbody tr th:only-of-type {\n",
       "        vertical-align: middle;\n",
       "    }\n",
       "\n",
       "    .dataframe tbody tr th {\n",
       "        vertical-align: top;\n",
       "    }\n",
       "\n",
       "    .dataframe thead th {\n",
       "        text-align: right;\n",
       "    }\n",
       "</style>\n",
       "<table border=\"1\" class=\"dataframe\">\n",
       "  <thead>\n",
       "    <tr style=\"text-align: right;\">\n",
       "      <th></th>\n",
       "      <th>A</th>\n",
       "      <th>B</th>\n",
       "      <th>C</th>\n",
       "      <th>D</th>\n",
       "      <th>E</th>\n",
       "      <th>F</th>\n",
       "      <th>G</th>\n",
       "      <th>H</th>\n",
       "      <th>I</th>\n",
       "      <th>J</th>\n",
       "      <th>K</th>\n",
       "      <th>L</th>\n",
       "      <th>M</th>\n",
       "      <th>N</th>\n",
       "      <th>O</th>\n",
       "      <th>Class</th>\n",
       "    </tr>\n",
       "  </thead>\n",
       "  <tbody>\n",
       "    <tr>\n",
       "      <th>0</th>\n",
       "      <td>231.420023</td>\n",
       "      <td>-12.210984</td>\n",
       "      <td>217.624839</td>\n",
       "      <td>-15.611916</td>\n",
       "      <td>140.047185</td>\n",
       "      <td>76.904999</td>\n",
       "      <td>131.591871</td>\n",
       "      <td>198.160805</td>\n",
       "      <td>82.873279</td>\n",
       "      <td>127.350084</td>\n",
       "      <td>224.592926</td>\n",
       "      <td>-5.992983</td>\n",
       "      <td>-14.689648</td>\n",
       "      <td>143.072058</td>\n",
       "      <td>153.439659</td>\n",
       "      <td>3</td>\n",
       "    </tr>\n",
       "    <tr>\n",
       "      <th>1</th>\n",
       "      <td>-38.019270</td>\n",
       "      <td>-14.195695</td>\n",
       "      <td>9.583547</td>\n",
       "      <td>22.293822</td>\n",
       "      <td>-25.578283</td>\n",
       "      <td>-18.373955</td>\n",
       "      <td>-0.094457</td>\n",
       "      <td>-33.711852</td>\n",
       "      <td>-8.356041</td>\n",
       "      <td>23.792402</td>\n",
       "      <td>4.199023</td>\n",
       "      <td>2.809159</td>\n",
       "      <td>-59.330681</td>\n",
       "      <td>-11.685950</td>\n",
       "      <td>1.317104</td>\n",
       "      <td>2</td>\n",
       "    </tr>\n",
       "    <tr>\n",
       "      <th>2</th>\n",
       "      <td>-39.197085</td>\n",
       "      <td>-20.418850</td>\n",
       "      <td>21.023083</td>\n",
       "      <td>19.790280</td>\n",
       "      <td>-25.902587</td>\n",
       "      <td>-19.189004</td>\n",
       "      <td>-2.953836</td>\n",
       "      <td>-25.299219</td>\n",
       "      <td>-6.612401</td>\n",
       "      <td>26.285392</td>\n",
       "      <td>5.911292</td>\n",
       "      <td>6.191587</td>\n",
       "      <td>-56.924996</td>\n",
       "      <td>-4.675187</td>\n",
       "      <td>-1.027830</td>\n",
       "      <td>2</td>\n",
       "    </tr>\n",
       "    <tr>\n",
       "      <th>3</th>\n",
       "      <td>221.630408</td>\n",
       "      <td>-5.785352</td>\n",
       "      <td>216.725322</td>\n",
       "      <td>-9.900781</td>\n",
       "      <td>126.795177</td>\n",
       "      <td>85.122288</td>\n",
       "      <td>108.857593</td>\n",
       "      <td>197.640135</td>\n",
       "      <td>82.560019</td>\n",
       "      <td>157.105143</td>\n",
       "      <td>212.989231</td>\n",
       "      <td>-3.621070</td>\n",
       "      <td>-15.469156</td>\n",
       "      <td>135.265859</td>\n",
       "      <td>149.212489</td>\n",
       "      <td>3</td>\n",
       "    </tr>\n",
       "    <tr>\n",
       "      <th>4</th>\n",
       "      <td>228.558412</td>\n",
       "      <td>-12.447710</td>\n",
       "      <td>204.637218</td>\n",
       "      <td>-13.277704</td>\n",
       "      <td>138.930529</td>\n",
       "      <td>91.101870</td>\n",
       "      <td>115.598954</td>\n",
       "      <td>209.300011</td>\n",
       "      <td>89.961688</td>\n",
       "      <td>130.299732</td>\n",
       "      <td>201.795100</td>\n",
       "      <td>-1.573922</td>\n",
       "      <td>-15.128603</td>\n",
       "      <td>148.368622</td>\n",
       "      <td>147.492663</td>\n",
       "      <td>3</td>\n",
       "    </tr>\n",
       "    <tr>\n",
       "      <th>5</th>\n",
       "      <td>235.027198</td>\n",
       "      <td>-16.081132</td>\n",
       "      <td>213.391582</td>\n",
       "      <td>-12.934912</td>\n",
       "      <td>122.413766</td>\n",
       "      <td>80.222540</td>\n",
       "      <td>125.240412</td>\n",
       "      <td>185.694965</td>\n",
       "      <td>66.072251</td>\n",
       "      <td>142.555417</td>\n",
       "      <td>213.442083</td>\n",
       "      <td>0.728989</td>\n",
       "      <td>-26.046291</td>\n",
       "      <td>137.529415</td>\n",
       "      <td>143.348783</td>\n",
       "      <td>3</td>\n",
       "    </tr>\n",
       "    <tr>\n",
       "      <th>6</th>\n",
       "      <td>-35.819795</td>\n",
       "      <td>-16.688245</td>\n",
       "      <td>5.738227</td>\n",
       "      <td>17.570011</td>\n",
       "      <td>-31.523595</td>\n",
       "      <td>-20.625764</td>\n",
       "      <td>0.077354</td>\n",
       "      <td>-28.944922</td>\n",
       "      <td>-10.699215</td>\n",
       "      <td>26.982097</td>\n",
       "      <td>2.958726</td>\n",
       "      <td>-2.365574</td>\n",
       "      <td>-56.082634</td>\n",
       "      <td>-6.918042</td>\n",
       "      <td>-0.996789</td>\n",
       "      <td>2</td>\n",
       "    </tr>\n",
       "    <tr>\n",
       "      <th>7</th>\n",
       "      <td>-28.620633</td>\n",
       "      <td>-16.324678</td>\n",
       "      <td>6.614499</td>\n",
       "      <td>19.866385</td>\n",
       "      <td>-23.119998</td>\n",
       "      <td>-22.328572</td>\n",
       "      <td>1.477065</td>\n",
       "      <td>-26.383605</td>\n",
       "      <td>-8.616671</td>\n",
       "      <td>28.874319</td>\n",
       "      <td>1.743714</td>\n",
       "      <td>4.953251</td>\n",
       "      <td>-55.702022</td>\n",
       "      <td>-8.014284</td>\n",
       "      <td>2.449081</td>\n",
       "      <td>2</td>\n",
       "    </tr>\n",
       "    <tr>\n",
       "      <th>8</th>\n",
       "      <td>-41.092898</td>\n",
       "      <td>-11.525839</td>\n",
       "      <td>12.027010</td>\n",
       "      <td>18.670988</td>\n",
       "      <td>-19.612979</td>\n",
       "      <td>-25.918632</td>\n",
       "      <td>5.266337</td>\n",
       "      <td>-25.972718</td>\n",
       "      <td>-13.371210</td>\n",
       "      <td>25.709532</td>\n",
       "      <td>-1.515002</td>\n",
       "      <td>-1.041023</td>\n",
       "      <td>-54.683633</td>\n",
       "      <td>-12.382565</td>\n",
       "      <td>5.424004</td>\n",
       "      <td>2</td>\n",
       "    </tr>\n",
       "    <tr>\n",
       "      <th>9</th>\n",
       "      <td>222.645628</td>\n",
       "      <td>-10.907163</td>\n",
       "      <td>215.098599</td>\n",
       "      <td>-15.552786</td>\n",
       "      <td>126.227053</td>\n",
       "      <td>85.659915</td>\n",
       "      <td>106.932482</td>\n",
       "      <td>195.793702</td>\n",
       "      <td>79.786718</td>\n",
       "      <td>138.150287</td>\n",
       "      <td>223.018301</td>\n",
       "      <td>-11.896866</td>\n",
       "      <td>-15.113817</td>\n",
       "      <td>146.038066</td>\n",
       "      <td>140.611871</td>\n",
       "      <td>3</td>\n",
       "    </tr>\n",
       "    <tr>\n",
       "      <th>10</th>\n",
       "      <td>237.150426</td>\n",
       "      <td>-11.896684</td>\n",
       "      <td>216.737257</td>\n",
       "      <td>-13.108356</td>\n",
       "      <td>129.634246</td>\n",
       "      <td>83.411386</td>\n",
       "      <td>118.344873</td>\n",
       "      <td>197.868917</td>\n",
       "      <td>79.823578</td>\n",
       "      <td>138.221987</td>\n",
       "      <td>227.825261</td>\n",
       "      <td>-1.322116</td>\n",
       "      <td>-14.211532</td>\n",
       "      <td>139.947535</td>\n",
       "      <td>146.650348</td>\n",
       "      <td>3</td>\n",
       "    </tr>\n",
       "    <tr>\n",
       "      <th>11</th>\n",
       "      <td>-23.413125</td>\n",
       "      <td>-11.119531</td>\n",
       "      <td>16.910592</td>\n",
       "      <td>18.915184</td>\n",
       "      <td>-25.170026</td>\n",
       "      <td>-28.504337</td>\n",
       "      <td>-2.371616</td>\n",
       "      <td>-26.557941</td>\n",
       "      <td>-4.756554</td>\n",
       "      <td>20.160979</td>\n",
       "      <td>3.415932</td>\n",
       "      <td>8.147177</td>\n",
       "      <td>-52.641582</td>\n",
       "      <td>-6.348362</td>\n",
       "      <td>0.196517</td>\n",
       "      <td>2</td>\n",
       "    </tr>\n",
       "    <tr>\n",
       "      <th>12</th>\n",
       "      <td>-29.249384</td>\n",
       "      <td>-13.486606</td>\n",
       "      <td>9.719229</td>\n",
       "      <td>18.708490</td>\n",
       "      <td>-21.304944</td>\n",
       "      <td>-34.440508</td>\n",
       "      <td>-1.884057</td>\n",
       "      <td>-26.843994</td>\n",
       "      <td>-9.007811</td>\n",
       "      <td>22.341808</td>\n",
       "      <td>0.406326</td>\n",
       "      <td>9.528769</td>\n",
       "      <td>-55.168137</td>\n",
       "      <td>-6.629304</td>\n",
       "      <td>-2.431450</td>\n",
       "      <td>2</td>\n",
       "    </tr>\n",
       "    <tr>\n",
       "      <th>13</th>\n",
       "      <td>-32.610177</td>\n",
       "      <td>-9.981722</td>\n",
       "      <td>6.773037</td>\n",
       "      <td>13.533336</td>\n",
       "      <td>-22.057367</td>\n",
       "      <td>-25.211891</td>\n",
       "      <td>4.558840</td>\n",
       "      <td>-28.412033</td>\n",
       "      <td>-9.242013</td>\n",
       "      <td>27.326628</td>\n",
       "      <td>8.105178</td>\n",
       "      <td>5.004292</td>\n",
       "      <td>-53.961654</td>\n",
       "      <td>-9.454739</td>\n",
       "      <td>-7.857693</td>\n",
       "      <td>2</td>\n",
       "    </tr>\n",
       "    <tr>\n",
       "      <th>14</th>\n",
       "      <td>-58.240602</td>\n",
       "      <td>-52.320437</td>\n",
       "      <td>-43.810581</td>\n",
       "      <td>-112.168505</td>\n",
       "      <td>-16.290017</td>\n",
       "      <td>-134.928015</td>\n",
       "      <td>-51.453216</td>\n",
       "      <td>0.381228</td>\n",
       "      <td>47.966570</td>\n",
       "      <td>-87.220949</td>\n",
       "      <td>51.825918</td>\n",
       "      <td>-44.290980</td>\n",
       "      <td>-55.732550</td>\n",
       "      <td>42.281648</td>\n",
       "      <td>59.720486</td>\n",
       "      <td>1</td>\n",
       "    </tr>\n",
       "    <tr>\n",
       "      <th>15</th>\n",
       "      <td>-39.238696</td>\n",
       "      <td>-18.604404</td>\n",
       "      <td>15.525642</td>\n",
       "      <td>17.059754</td>\n",
       "      <td>-23.125142</td>\n",
       "      <td>-34.300873</td>\n",
       "      <td>6.034945</td>\n",
       "      <td>-25.488902</td>\n",
       "      <td>-1.199718</td>\n",
       "      <td>28.432906</td>\n",
       "      <td>0.936562</td>\n",
       "      <td>-1.849208</td>\n",
       "      <td>-54.797583</td>\n",
       "      <td>-6.948486</td>\n",
       "      <td>-1.864320</td>\n",
       "      <td>2</td>\n",
       "    </tr>\n",
       "    <tr>\n",
       "      <th>16</th>\n",
       "      <td>-30.023792</td>\n",
       "      <td>-8.107719</td>\n",
       "      <td>9.908073</td>\n",
       "      <td>19.765770</td>\n",
       "      <td>-24.328704</td>\n",
       "      <td>-20.265524</td>\n",
       "      <td>1.466354</td>\n",
       "      <td>-26.201935</td>\n",
       "      <td>-7.577699</td>\n",
       "      <td>29.336495</td>\n",
       "      <td>8.236472</td>\n",
       "      <td>2.464305</td>\n",
       "      <td>-56.746649</td>\n",
       "      <td>-9.525903</td>\n",
       "      <td>3.715803</td>\n",
       "      <td>2</td>\n",
       "    </tr>\n",
       "    <tr>\n",
       "      <th>17</th>\n",
       "      <td>223.968418</td>\n",
       "      <td>-2.878510</td>\n",
       "      <td>224.529756</td>\n",
       "      <td>-12.141880</td>\n",
       "      <td>130.214285</td>\n",
       "      <td>90.869683</td>\n",
       "      <td>132.413357</td>\n",
       "      <td>198.535211</td>\n",
       "      <td>70.498025</td>\n",
       "      <td>143.565346</td>\n",
       "      <td>217.251480</td>\n",
       "      <td>7.231149</td>\n",
       "      <td>-10.948180</td>\n",
       "      <td>127.546699</td>\n",
       "      <td>135.343679</td>\n",
       "      <td>3</td>\n",
       "    </tr>\n",
       "    <tr>\n",
       "      <th>18</th>\n",
       "      <td>224.664365</td>\n",
       "      <td>-8.612695</td>\n",
       "      <td>221.402716</td>\n",
       "      <td>-11.492636</td>\n",
       "      <td>127.399873</td>\n",
       "      <td>82.218766</td>\n",
       "      <td>121.803524</td>\n",
       "      <td>196.247035</td>\n",
       "      <td>85.497666</td>\n",
       "      <td>121.325244</td>\n",
       "      <td>228.137325</td>\n",
       "      <td>-9.210585</td>\n",
       "      <td>-19.823454</td>\n",
       "      <td>129.867547</td>\n",
       "      <td>144.520434</td>\n",
       "      <td>3</td>\n",
       "    </tr>\n",
       "    <tr>\n",
       "      <th>19</th>\n",
       "      <td>-34.461206</td>\n",
       "      <td>-21.017933</td>\n",
       "      <td>10.075056</td>\n",
       "      <td>18.514747</td>\n",
       "      <td>-22.146678</td>\n",
       "      <td>-20.975127</td>\n",
       "      <td>-2.014506</td>\n",
       "      <td>-27.691425</td>\n",
       "      <td>-8.315435</td>\n",
       "      <td>15.446530</td>\n",
       "      <td>2.344436</td>\n",
       "      <td>2.498219</td>\n",
       "      <td>-52.412956</td>\n",
       "      <td>-2.168471</td>\n",
       "      <td>-2.876181</td>\n",
       "      <td>2</td>\n",
       "    </tr>\n",
       "    <tr>\n",
       "      <th>20</th>\n",
       "      <td>-31.294887</td>\n",
       "      <td>-9.895851</td>\n",
       "      <td>17.991478</td>\n",
       "      <td>20.224218</td>\n",
       "      <td>-24.240796</td>\n",
       "      <td>-23.285830</td>\n",
       "      <td>-8.043325</td>\n",
       "      <td>-26.865029</td>\n",
       "      <td>-6.031751</td>\n",
       "      <td>23.194934</td>\n",
       "      <td>0.985558</td>\n",
       "      <td>0.870703</td>\n",
       "      <td>-54.813961</td>\n",
       "      <td>-8.687809</td>\n",
       "      <td>-1.813143</td>\n",
       "      <td>2</td>\n",
       "    </tr>\n",
       "    <tr>\n",
       "      <th>21</th>\n",
       "      <td>236.223883</td>\n",
       "      <td>-17.036876</td>\n",
       "      <td>202.379963</td>\n",
       "      <td>-12.304080</td>\n",
       "      <td>127.812991</td>\n",
       "      <td>71.036946</td>\n",
       "      <td>110.274421</td>\n",
       "      <td>197.326842</td>\n",
       "      <td>87.285231</td>\n",
       "      <td>112.039062</td>\n",
       "      <td>219.523185</td>\n",
       "      <td>-8.346405</td>\n",
       "      <td>-13.720252</td>\n",
       "      <td>149.996735</td>\n",
       "      <td>142.859520</td>\n",
       "      <td>3</td>\n",
       "    </tr>\n",
       "    <tr>\n",
       "      <th>22</th>\n",
       "      <td>-63.798054</td>\n",
       "      <td>-47.508030</td>\n",
       "      <td>-42.099906</td>\n",
       "      <td>-108.156312</td>\n",
       "      <td>-16.392465</td>\n",
       "      <td>-121.994302</td>\n",
       "      <td>-46.618747</td>\n",
       "      <td>-9.543992</td>\n",
       "      <td>48.467472</td>\n",
       "      <td>-101.707371</td>\n",
       "      <td>42.560256</td>\n",
       "      <td>-38.325831</td>\n",
       "      <td>-48.486880</td>\n",
       "      <td>33.599545</td>\n",
       "      <td>61.623347</td>\n",
       "      <td>1</td>\n",
       "    </tr>\n",
       "    <tr>\n",
       "      <th>23</th>\n",
       "      <td>-29.742176</td>\n",
       "      <td>-6.547584</td>\n",
       "      <td>11.707859</td>\n",
       "      <td>18.615576</td>\n",
       "      <td>-24.321350</td>\n",
       "      <td>-23.237728</td>\n",
       "      <td>-0.823747</td>\n",
       "      <td>-23.220274</td>\n",
       "      <td>-6.960576</td>\n",
       "      <td>26.803405</td>\n",
       "      <td>2.397160</td>\n",
       "      <td>-3.340577</td>\n",
       "      <td>-56.345586</td>\n",
       "      <td>-5.731456</td>\n",
       "      <td>0.080677</td>\n",
       "      <td>2</td>\n",
       "    </tr>\n",
       "    <tr>\n",
       "      <th>24</th>\n",
       "      <td>214.501120</td>\n",
       "      <td>-12.386835</td>\n",
       "      <td>220.170860</td>\n",
       "      <td>-11.482754</td>\n",
       "      <td>136.266760</td>\n",
       "      <td>84.174828</td>\n",
       "      <td>113.271746</td>\n",
       "      <td>202.299392</td>\n",
       "      <td>79.514846</td>\n",
       "      <td>142.781926</td>\n",
       "      <td>208.605238</td>\n",
       "      <td>-9.476301</td>\n",
       "      <td>-10.421123</td>\n",
       "      <td>148.194823</td>\n",
       "      <td>162.473233</td>\n",
       "      <td>3</td>\n",
       "    </tr>\n",
       "  </tbody>\n",
       "</table>\n",
       "</div>"
      ],
      "text/plain": [
       "             A          B           C           D           E           F  \\\n",
       "0   231.420023 -12.210984  217.624839  -15.611916  140.047185   76.904999   \n",
       "1   -38.019270 -14.195695    9.583547   22.293822  -25.578283  -18.373955   \n",
       "2   -39.197085 -20.418850   21.023083   19.790280  -25.902587  -19.189004   \n",
       "3   221.630408  -5.785352  216.725322   -9.900781  126.795177   85.122288   \n",
       "4   228.558412 -12.447710  204.637218  -13.277704  138.930529   91.101870   \n",
       "5   235.027198 -16.081132  213.391582  -12.934912  122.413766   80.222540   \n",
       "6   -35.819795 -16.688245    5.738227   17.570011  -31.523595  -20.625764   \n",
       "7   -28.620633 -16.324678    6.614499   19.866385  -23.119998  -22.328572   \n",
       "8   -41.092898 -11.525839   12.027010   18.670988  -19.612979  -25.918632   \n",
       "9   222.645628 -10.907163  215.098599  -15.552786  126.227053   85.659915   \n",
       "10  237.150426 -11.896684  216.737257  -13.108356  129.634246   83.411386   \n",
       "11  -23.413125 -11.119531   16.910592   18.915184  -25.170026  -28.504337   \n",
       "12  -29.249384 -13.486606    9.719229   18.708490  -21.304944  -34.440508   \n",
       "13  -32.610177  -9.981722    6.773037   13.533336  -22.057367  -25.211891   \n",
       "14  -58.240602 -52.320437  -43.810581 -112.168505  -16.290017 -134.928015   \n",
       "15  -39.238696 -18.604404   15.525642   17.059754  -23.125142  -34.300873   \n",
       "16  -30.023792  -8.107719    9.908073   19.765770  -24.328704  -20.265524   \n",
       "17  223.968418  -2.878510  224.529756  -12.141880  130.214285   90.869683   \n",
       "18  224.664365  -8.612695  221.402716  -11.492636  127.399873   82.218766   \n",
       "19  -34.461206 -21.017933   10.075056   18.514747  -22.146678  -20.975127   \n",
       "20  -31.294887  -9.895851   17.991478   20.224218  -24.240796  -23.285830   \n",
       "21  236.223883 -17.036876  202.379963  -12.304080  127.812991   71.036946   \n",
       "22  -63.798054 -47.508030  -42.099906 -108.156312  -16.392465 -121.994302   \n",
       "23  -29.742176  -6.547584   11.707859   18.615576  -24.321350  -23.237728   \n",
       "24  214.501120 -12.386835  220.170860  -11.482754  136.266760   84.174828   \n",
       "\n",
       "             G           H          I           J           K          L  \\\n",
       "0   131.591871  198.160805  82.873279  127.350084  224.592926  -5.992983   \n",
       "1    -0.094457  -33.711852  -8.356041   23.792402    4.199023   2.809159   \n",
       "2    -2.953836  -25.299219  -6.612401   26.285392    5.911292   6.191587   \n",
       "3   108.857593  197.640135  82.560019  157.105143  212.989231  -3.621070   \n",
       "4   115.598954  209.300011  89.961688  130.299732  201.795100  -1.573922   \n",
       "5   125.240412  185.694965  66.072251  142.555417  213.442083   0.728989   \n",
       "6     0.077354  -28.944922 -10.699215   26.982097    2.958726  -2.365574   \n",
       "7     1.477065  -26.383605  -8.616671   28.874319    1.743714   4.953251   \n",
       "8     5.266337  -25.972718 -13.371210   25.709532   -1.515002  -1.041023   \n",
       "9   106.932482  195.793702  79.786718  138.150287  223.018301 -11.896866   \n",
       "10  118.344873  197.868917  79.823578  138.221987  227.825261  -1.322116   \n",
       "11   -2.371616  -26.557941  -4.756554   20.160979    3.415932   8.147177   \n",
       "12   -1.884057  -26.843994  -9.007811   22.341808    0.406326   9.528769   \n",
       "13    4.558840  -28.412033  -9.242013   27.326628    8.105178   5.004292   \n",
       "14  -51.453216    0.381228  47.966570  -87.220949   51.825918 -44.290980   \n",
       "15    6.034945  -25.488902  -1.199718   28.432906    0.936562  -1.849208   \n",
       "16    1.466354  -26.201935  -7.577699   29.336495    8.236472   2.464305   \n",
       "17  132.413357  198.535211  70.498025  143.565346  217.251480   7.231149   \n",
       "18  121.803524  196.247035  85.497666  121.325244  228.137325  -9.210585   \n",
       "19   -2.014506  -27.691425  -8.315435   15.446530    2.344436   2.498219   \n",
       "20   -8.043325  -26.865029  -6.031751   23.194934    0.985558   0.870703   \n",
       "21  110.274421  197.326842  87.285231  112.039062  219.523185  -8.346405   \n",
       "22  -46.618747   -9.543992  48.467472 -101.707371   42.560256 -38.325831   \n",
       "23   -0.823747  -23.220274  -6.960576   26.803405    2.397160  -3.340577   \n",
       "24  113.271746  202.299392  79.514846  142.781926  208.605238  -9.476301   \n",
       "\n",
       "            M           N           O  Class  \n",
       "0  -14.689648  143.072058  153.439659      3  \n",
       "1  -59.330681  -11.685950    1.317104      2  \n",
       "2  -56.924996   -4.675187   -1.027830      2  \n",
       "3  -15.469156  135.265859  149.212489      3  \n",
       "4  -15.128603  148.368622  147.492663      3  \n",
       "5  -26.046291  137.529415  143.348783      3  \n",
       "6  -56.082634   -6.918042   -0.996789      2  \n",
       "7  -55.702022   -8.014284    2.449081      2  \n",
       "8  -54.683633  -12.382565    5.424004      2  \n",
       "9  -15.113817  146.038066  140.611871      3  \n",
       "10 -14.211532  139.947535  146.650348      3  \n",
       "11 -52.641582   -6.348362    0.196517      2  \n",
       "12 -55.168137   -6.629304   -2.431450      2  \n",
       "13 -53.961654   -9.454739   -7.857693      2  \n",
       "14 -55.732550   42.281648   59.720486      1  \n",
       "15 -54.797583   -6.948486   -1.864320      2  \n",
       "16 -56.746649   -9.525903    3.715803      2  \n",
       "17 -10.948180  127.546699  135.343679      3  \n",
       "18 -19.823454  129.867547  144.520434      3  \n",
       "19 -52.412956   -2.168471   -2.876181      2  \n",
       "20 -54.813961   -8.687809   -1.813143      2  \n",
       "21 -13.720252  149.996735  142.859520      3  \n",
       "22 -48.486880   33.599545   61.623347      1  \n",
       "23 -56.345586   -5.731456    0.080677      2  \n",
       "24 -10.421123  148.194823  162.473233      3  "
      ]
     },
     "execution_count": 23,
     "metadata": {},
     "output_type": "execute_result"
    }
   ],
   "source": [
    "public_data.head(25)"
   ]
  },
  {
   "cell_type": "markdown",
   "metadata": {},
   "source": [
    "## Data Processing - Pipeline details, data issues, assumptions/adjustments / Data Analysis - Summary statistics, visualization, feature extraction.\n",
    "The first two observations in the data are the high dimensionality of the data and the high correlation between most of the features and the class. Dimensionality reduction is an important part of preprocessing. Given that 12 of the 16 features correlate strongly with the class we can afford to remove most of them. Most of the features in the dataset can be used to determine the class by simple filtering. Most of the features have ranges that map to specific classes. This is probably unique to the dataset and not charsteristic of the overall population. The other observation is that most of the features are correlated with each other. In fact there is only 4 features that have lower correlation with each other. Those are A B D I. These 4 features have less than 0.85 correalation score. The rest of the features are correlated by more than 0.9. \n",
    "This overlap in data means that I have to perform dimesionality reduction. In order to achieve thes I will be using PCA. Plotting the PCA I can see that the first two principal components explain about 99% of the variance of the dataset. If we assume that the general population has a similar variance to out dataset than we can generalize our model by using variance to predict the classes of the objects. For this dataset a PCA transformation with 2 components would be very effective but in order to generalize the model I will be using twice the components and include 4 components. This will still reduce the dimensionality by 4 times but will generalize the model.   \n"
   ]
  },
  {
   "cell_type": "code",
   "execution_count": 15,
   "metadata": {},
   "outputs": [
    {
     "data": {
      "image/png": "[encoded data removed]",
      "text/plain": [
       "<Figure size 432x288 with 1 Axes>"
      ]
     },
     "metadata": {},
     "output_type": "display_data"
    },
    {
     "name": "stdout",
     "output_type": "stream",
     "text": [
      "None\n"
     ]
    },
    {
     "data": {
      "image/png": "[encoded data removed]",
      "text/plain": [
       "<Figure size 432x288 with 1 Axes>"
      ]
     },
     "metadata": {},
     "output_type": "display_data"
    },
    {
     "name": "stdout",
     "output_type": "stream",
     "text": [
      "None\n"
     ]
    },
    {
     "data": {
      "image/png": "[encoded data removed]",
      "text/plain": [
       "<Figure size 432x288 with 1 Axes>"
      ]
     },
     "metadata": {},
     "output_type": "display_data"
    },
    {
     "name": "stdout",
     "output_type": "stream",
     "text": [
      "None\n"
     ]
    },
    {
     "data": {
      "image/png": "[encoded data removed]",
      "text/plain": [
       "<Figure size 432x288 with 1 Axes>"
      ]
     },
     "metadata": {},
     "output_type": "display_data"
    },
    {
     "name": "stdout",
     "output_type": "stream",
     "text": [
      "None\n"
     ]
    },
    {
     "data": {
      "image/png": "[encoded data removed]",
      "text/plain": [
       "<Figure size 432x288 with 1 Axes>"
      ]
     },
     "metadata": {},
     "output_type": "display_data"
    },
    {
     "name": "stdout",
     "output_type": "stream",
     "text": [
      "None\n"
     ]
    },
    {
     "data": {
      "image/png": "[encoded data removed]",
      "text/plain": [
       "<Figure size 432x288 with 1 Axes>"
      ]
     },
     "metadata": {},
     "output_type": "display_data"
    },
    {
     "name": "stdout",
     "output_type": "stream",
     "text": [
      "None\n"
     ]
    },
    {
     "data": {
      "image/png": "[encoded data removed]",
      "text/plain": [
       "<Figure size 432x288 with 1 Axes>"
      ]
     },
     "metadata": {},
     "output_type": "display_data"
    },
    {
     "name": "stdout",
     "output_type": "stream",
     "text": [
      "None\n"
     ]
    },
    {
     "data": {
      "image/png": "[encoded data removed]",
      "text/plain": [
       "<Figure size 432x288 with 1 Axes>"
      ]
     },
     "metadata": {},
     "output_type": "display_data"
    },
    {
     "name": "stdout",
     "output_type": "stream",
     "text": [
      "None\n"
     ]
    },
    {
     "data": {
      "image/png": "[encoded data removed]",
      "text/plain": [
       "<Figure size 432x288 with 1 Axes>"
      ]
     },
     "metadata": {},
     "output_type": "display_data"
    },
    {
     "name": "stdout",
     "output_type": "stream",
     "text": [
      "None\n"
     ]
    },
    {
     "data": {
      "image/png": "[encoded data removed]",
      "text/plain": [
       "<Figure size 432x288 with 1 Axes>"
      ]
     },
     "metadata": {},
     "output_type": "display_data"
    },
    {
     "name": "stdout",
     "output_type": "stream",
     "text": [
      "None\n"
     ]
    },
    {
     "data": {
      "image/png": "[encoded data removed]",
      "text/plain": [
       "<Figure size 432x288 with 1 Axes>"
      ]
     },
     "metadata": {},
     "output_type": "display_data"
    },
    {
     "name": "stdout",
     "output_type": "stream",
     "text": [
      "None\n"
     ]
    },
    {
     "data": {
      "image/png": "[encoded data removed]",
      "text/plain": [
       "<Figure size 432x288 with 1 Axes>"
      ]
     },
     "metadata": {},
     "output_type": "display_data"
    },
    {
     "name": "stdout",
     "output_type": "stream",
     "text": [
      "None\n"
     ]
    },
    {
     "data": {
      "image/png": "[encoded data removed]",
      "text/plain": [
       "<Figure size 432x288 with 1 Axes>"
      ]
     },
     "metadata": {},
     "output_type": "display_data"
    },
    {
     "name": "stdout",
     "output_type": "stream",
     "text": [
      "None\n"
     ]
    },
    {
     "data": {
      "image/png": "[encoded data removed]",
      "text/plain": [
       "<Figure size 432x288 with 1 Axes>"
      ]
     },
     "metadata": {},
     "output_type": "display_data"
    },
    {
     "name": "stdout",
     "output_type": "stream",
     "text": [
      "None\n"
     ]
    },
    {
     "data": {
      "image/png": "[encoded data removed]",
      "text/plain": [
       "<Figure size 432x288 with 1 Axes>"
      ]
     },
     "metadata": {},
     "output_type": "display_data"
    },
    {
     "name": "stdout",
     "output_type": "stream",
     "text": [
      "None\n"
     ]
    }
   ],
   "source": [
    "for feature in public_data.drop(columns=\"Class\").columns:\n",
    "    public_data.groupby(\"Class\")[feature].hist()\n",
    "    plt.title(feature+ \" class distribution\")\n",
    "    print(plt.show())\n",
    "\n"
   ]
  },
  {
   "cell_type": "code",
   "execution_count": 30,
   "metadata": {},
   "outputs": [
    {
     "data": {
      "text/html": [
       "<div>\n",
       "<style scoped>\n",
       "    .dataframe tbody tr th:only-of-type {\n",
       "        vertical-align: middle;\n",
       "    }\n",
       "\n",
       "    .dataframe tbody tr th {\n",
       "        vertical-align: top;\n",
       "    }\n",
       "\n",
       "    .dataframe thead th {\n",
       "        text-align: right;\n",
       "    }\n",
       "</style>\n",
       "<table border=\"1\" class=\"dataframe\">\n",
       "  <thead>\n",
       "    <tr style=\"text-align: right;\">\n",
       "      <th></th>\n",
       "      <th>A</th>\n",
       "      <th>B</th>\n",
       "      <th>C</th>\n",
       "      <th>D</th>\n",
       "      <th>E</th>\n",
       "      <th>F</th>\n",
       "      <th>G</th>\n",
       "      <th>H</th>\n",
       "      <th>I</th>\n",
       "      <th>J</th>\n",
       "      <th>K</th>\n",
       "      <th>L</th>\n",
       "      <th>M</th>\n",
       "      <th>N</th>\n",
       "      <th>O</th>\n",
       "    </tr>\n",
       "  </thead>\n",
       "  <tbody>\n",
       "    <tr>\n",
       "      <th>count</th>\n",
       "      <td>1.200000e+06</td>\n",
       "      <td>1.200000e+06</td>\n",
       "      <td>1.200000e+06</td>\n",
       "      <td>1.200000e+06</td>\n",
       "      <td>1.200000e+06</td>\n",
       "      <td>1.200000e+06</td>\n",
       "      <td>1.200000e+06</td>\n",
       "      <td>1.200000e+06</td>\n",
       "      <td>1.200000e+06</td>\n",
       "      <td>1.200000e+06</td>\n",
       "      <td>1.200000e+06</td>\n",
       "      <td>1.200000e+06</td>\n",
       "      <td>1.200000e+06</td>\n",
       "      <td>1.200000e+06</td>\n",
       "      <td>1.200000e+06</td>\n",
       "    </tr>\n",
       "    <tr>\n",
       "      <th>mean</th>\n",
       "      <td>-3.643659e-17</td>\n",
       "      <td>-2.155209e-16</td>\n",
       "      <td>2.813494e-16</td>\n",
       "      <td>1.553099e-16</td>\n",
       "      <td>7.729761e-17</td>\n",
       "      <td>-3.568016e-17</td>\n",
       "      <td>9.957905e-17</td>\n",
       "      <td>3.148870e-17</td>\n",
       "      <td>6.199393e-17</td>\n",
       "      <td>-1.551724e-16</td>\n",
       "      <td>9.179620e-17</td>\n",
       "      <td>2.122283e-16</td>\n",
       "      <td>-3.071542e-16</td>\n",
       "      <td>-1.836540e-16</td>\n",
       "      <td>-5.088456e-16</td>\n",
       "    </tr>\n",
       "    <tr>\n",
       "      <th>std</th>\n",
       "      <td>1.000000e+00</td>\n",
       "      <td>1.000000e+00</td>\n",
       "      <td>1.000000e+00</td>\n",
       "      <td>1.000000e+00</td>\n",
       "      <td>1.000000e+00</td>\n",
       "      <td>1.000000e+00</td>\n",
       "      <td>1.000000e+00</td>\n",
       "      <td>1.000000e+00</td>\n",
       "      <td>1.000000e+00</td>\n",
       "      <td>1.000000e+00</td>\n",
       "      <td>1.000000e+00</td>\n",
       "      <td>1.000000e+00</td>\n",
       "      <td>1.000000e+00</td>\n",
       "      <td>1.000000e+00</td>\n",
       "      <td>1.000000e+00</td>\n",
       "    </tr>\n",
       "    <tr>\n",
       "      <th>min</th>\n",
       "      <td>-9.576537e-01</td>\n",
       "      <td>-4.451873e+00</td>\n",
       "      <td>-1.247617e+00</td>\n",
       "      <td>-2.644705e+00</td>\n",
       "      <td>-9.302043e-01</td>\n",
       "      <td>-1.948346e+00</td>\n",
       "      <td>-1.475652e+00</td>\n",
       "      <td>-9.050405e-01</td>\n",
       "      <td>-1.213772e+00</td>\n",
       "      <td>-1.992491e+00</td>\n",
       "      <td>-9.862478e-01</td>\n",
       "      <td>-3.593717e+00</td>\n",
       "      <td>-2.184472e+00</td>\n",
       "      <td>-1.041432e+00</td>\n",
       "      <td>-1.087707e+00</td>\n",
       "    </tr>\n",
       "    <tr>\n",
       "      <th>25%</th>\n",
       "      <td>-6.856782e-01</td>\n",
       "      <td>6.686056e-02</td>\n",
       "      <td>-6.085477e-01</td>\n",
       "      <td>-2.478078e-02</td>\n",
       "      <td>-7.388438e-01</td>\n",
       "      <td>-3.357422e-01</td>\n",
       "      <td>-5.288938e-01</td>\n",
       "      <td>-7.487208e-01</td>\n",
       "      <td>-9.626425e-01</td>\n",
       "      <td>-2.579156e-01</td>\n",
       "      <td>-8.115155e-01</td>\n",
       "      <td>-1.366680e-01</td>\n",
       "      <td>-7.453553e-01</td>\n",
       "      <td>-8.415592e-01</td>\n",
       "      <td>-8.931280e-01</td>\n",
       "    </tr>\n",
       "    <tr>\n",
       "      <th>50%</th>\n",
       "      <td>-6.395787e-01</td>\n",
       "      <td>3.550282e-01</td>\n",
       "      <td>-5.521766e-01</td>\n",
       "      <td>1.182764e-01</td>\n",
       "      <td>-6.647971e-01</td>\n",
       "      <td>-2.540494e-01</td>\n",
       "      <td>-4.541885e-01</td>\n",
       "      <td>-6.701335e-01</td>\n",
       "      <td>1.112827e-01</td>\n",
       "      <td>-1.787165e-01</td>\n",
       "      <td>-5.572950e-01</td>\n",
       "      <td>3.638817e-01</td>\n",
       "      <td>-5.947576e-01</td>\n",
       "      <td>-5.182225e-01</td>\n",
       "      <td>-1.933404e-01</td>\n",
       "    </tr>\n",
       "    <tr>\n",
       "      <th>75%</th>\n",
       "      <td>1.371888e+00</td>\n",
       "      <td>5.723130e-01</td>\n",
       "      <td>1.336639e+00</td>\n",
       "      <td>7.059888e-01</td>\n",
       "      <td>1.365782e+00</td>\n",
       "      <td>1.156495e+00</td>\n",
       "      <td>1.252824e+00</td>\n",
       "      <td>1.358384e+00</td>\n",
       "      <td>1.110893e+00</td>\n",
       "      <td>1.097673e+00</td>\n",
       "      <td>1.320777e+00</td>\n",
       "      <td>6.472593e-01</td>\n",
       "      <td>1.129887e+00</td>\n",
       "      <td>1.291130e+00</td>\n",
       "      <td>1.277773e+00</td>\n",
       "    </tr>\n",
       "    <tr>\n",
       "      <th>max</th>\n",
       "      <td>1.687340e+00</td>\n",
       "      <td>1.610521e+00</td>\n",
       "      <td>1.752916e+00</td>\n",
       "      <td>9.848922e-01</td>\n",
       "      <td>1.765142e+00</td>\n",
       "      <td>1.766344e+00</td>\n",
       "      <td>2.016591e+00</td>\n",
       "      <td>1.758369e+00</td>\n",
       "      <td>1.856630e+00</td>\n",
       "      <td>1.749513e+00</td>\n",
       "      <td>1.902329e+00</td>\n",
       "      <td>1.819692e+00</td>\n",
       "      <td>2.939533e+00</td>\n",
       "      <td>1.923838e+00</td>\n",
       "      <td>1.810468e+00</td>\n",
       "    </tr>\n",
       "  </tbody>\n",
       "</table>\n",
       "</div>"
      ],
      "text/plain": [
       "                  A             B             C             D             E  \\\n",
       "count  1.200000e+06  1.200000e+06  1.200000e+06  1.200000e+06  1.200000e+06   \n",
       "mean  -3.643659e-17 -2.155209e-16  2.813494e-16  1.553099e-16  7.729761e-17   \n",
       "std    1.000000e+00  1.000000e+00  1.000000e+00  1.000000e+00  1.000000e+00   \n",
       "min   -9.576537e-01 -4.451873e+00 -1.247617e+00 -2.644705e+00 -9.302043e-01   \n",
       "25%   -6.856782e-01  6.686056e-02 -6.085477e-01 -2.478078e-02 -7.388438e-01   \n",
       "50%   -6.395787e-01  3.550282e-01 -5.521766e-01  1.182764e-01 -6.647971e-01   \n",
       "75%    1.371888e+00  5.723130e-01  1.336639e+00  7.059888e-01  1.365782e+00   \n",
       "max    1.687340e+00  1.610521e+00  1.752916e+00  9.848922e-01  1.765142e+00   \n",
       "\n",
       "                  F             G             H             I             J  \\\n",
       "count  1.200000e+06  1.200000e+06  1.200000e+06  1.200000e+06  1.200000e+06   \n",
       "mean  -3.568016e-17  9.957905e-17  3.148870e-17  6.199393e-17 -1.551724e-16   \n",
       "std    1.000000e+00  1.000000e+00  1.000000e+00  1.000000e+00  1.000000e+00   \n",
       "min   -1.948346e+00 -1.475652e+00 -9.050405e-01 -1.213772e+00 -1.992491e+00   \n",
       "25%   -3.357422e-01 -5.288938e-01 -7.487208e-01 -9.626425e-01 -2.579156e-01   \n",
       "50%   -2.540494e-01 -4.541885e-01 -6.701335e-01  1.112827e-01 -1.787165e-01   \n",
       "75%    1.156495e+00  1.252824e+00  1.358384e+00  1.110893e+00  1.097673e+00   \n",
       "max    1.766344e+00  2.016591e+00  1.758369e+00  1.856630e+00  1.749513e+00   \n",
       "\n",
       "                  K             L             M             N             O  \n",
       "count  1.200000e+06  1.200000e+06  1.200000e+06  1.200000e+06  1.200000e+06  \n",
       "mean   9.179620e-17  2.122283e-16 -3.071542e-16 -1.836540e-16 -5.088456e-16  \n",
       "std    1.000000e+00  1.000000e+00  1.000000e+00  1.000000e+00  1.000000e+00  \n",
       "min   -9.862478e-01 -3.593717e+00 -2.184472e+00 -1.041432e+00 -1.087707e+00  \n",
       "25%   -8.115155e-01 -1.366680e-01 -7.453553e-01 -8.415592e-01 -8.931280e-01  \n",
       "50%   -5.572950e-01  3.638817e-01 -5.947576e-01 -5.182225e-01 -1.933404e-01  \n",
       "75%    1.320777e+00  6.472593e-01  1.129887e+00  1.291130e+00  1.277773e+00  \n",
       "max    1.902329e+00  1.819692e+00  2.939533e+00  1.923838e+00  1.810468e+00  "
      ]
     },
     "execution_count": 30,
     "metadata": {},
     "output_type": "execute_result"
    }
   ],
   "source": [
    "np_values = public_data.values\n",
    "standard_scaler = StandardScaler()\n",
    "vals_scaled = standard_scaler.fit_transform(np_values)\n",
    "public_scaled = pd.DataFrame(vals_scaled, columns=public_data.columns)\n",
    "public_scaled = public_scaled.drop(columns=\"Class\")\n",
    "public_scaled.describe()"
   ]
  },
  {
   "cell_type": "code",
   "execution_count": 31,
   "metadata": {},
   "outputs": [
    {
     "data": {
      "image/png": "[encoded data removed]",
      "text/plain": [
       "<Figure size 432x288 with 1 Axes>"
      ]
     },
     "metadata": {},
     "output_type": "display_data"
    },
    {
     "name": "stdout",
     "output_type": "stream",
     "text": [
      "None\n"
     ]
    },
    {
     "data": {
      "image/png": "[encoded data removed]",
      "text/plain": [
       "<Figure size 432x288 with 1 Axes>"
      ]
     },
     "metadata": {},
     "output_type": "display_data"
    },
    {
     "name": "stdout",
     "output_type": "stream",
     "text": [
      "None\n"
     ]
    },
    {
     "data": {
      "image/png": "[encoded data removed]",
      "text/plain": [
       "<Figure size 432x288 with 1 Axes>"
      ]
     },
     "metadata": {},
     "output_type": "display_data"
    },
    {
     "name": "stdout",
     "output_type": "stream",
     "text": [
      "None\n"
     ]
    },
    {
     "data": {
      "image/png": "[encoded data removed]",
      "text/plain": [
       "<Figure size 432x288 with 1 Axes>"
      ]
     },
     "metadata": {},
     "output_type": "display_data"
    },
    {
     "name": "stdout",
     "output_type": "stream",
     "text": [
      "None\n"
     ]
    },
    {
     "data": {
      "image/png": "[encoded data removed]",
      "text/plain": [
       "<Figure size 432x288 with 1 Axes>"
      ]
     },
     "metadata": {},
     "output_type": "display_data"
    },
    {
     "name": "stdout",
     "output_type": "stream",
     "text": [
      "None\n"
     ]
    },
    {
     "data": {
      "image/png": "[encoded data removed]",
      "text/plain": [
       "<Figure size 432x288 with 1 Axes>"
      ]
     },
     "metadata": {},
     "output_type": "display_data"
    },
    {
     "name": "stdout",
     "output_type": "stream",
     "text": [
      "None\n"
     ]
    },
    {
     "data": {
      "image/png": "[encoded data removed]",
      "text/plain": [
       "<Figure size 432x288 with 1 Axes>"
      ]
     },
     "metadata": {},
     "output_type": "display_data"
    },
    {
     "name": "stdout",
     "output_type": "stream",
     "text": [
      "None\n"
     ]
    },
    {
     "data": {
      "image/png": "[encoded data removed]",
      "text/plain": [
       "<Figure size 432x288 with 1 Axes>"
      ]
     },
     "metadata": {},
     "output_type": "display_data"
    },
    {
     "name": "stdout",
     "output_type": "stream",
     "text": [
      "None\n"
     ]
    },
    {
     "data": {
      "image/png": "[encoded data removed]",
      "text/plain": [
       "<Figure size 432x288 with 1 Axes>"
      ]
     },
     "metadata": {},
     "output_type": "display_data"
    },
    {
     "name": "stdout",
     "output_type": "stream",
     "text": [
      "None\n"
     ]
    },
    {
     "data": {
      "image/png": "[encoded data removed]",
      "text/plain": [
       "<Figure size 432x288 with 1 Axes>"
      ]
     },
     "metadata": {},
     "output_type": "display_data"
    },
    {
     "name": "stdout",
     "output_type": "stream",
     "text": [
      "None\n"
     ]
    },
    {
     "data": {
      "image/png": "[encoded data removed]",
      "text/plain": [
       "<Figure size 432x288 with 1 Axes>"
      ]
     },
     "metadata": {},
     "output_type": "display_data"
    },
    {
     "name": "stdout",
     "output_type": "stream",
     "text": [
      "None\n"
     ]
    },
    {
     "data": {
      "image/png": "[encoded data removed]",
      "text/plain": [
       "<Figure size 432x288 with 1 Axes>"
      ]
     },
     "metadata": {},
     "output_type": "display_data"
    },
    {
     "name": "stdout",
     "output_type": "stream",
     "text": [
      "None\n"
     ]
    },
    {
     "data": {
      "image/png": "[encoded data removed]",
      "text/plain": [
       "<Figure size 432x288 with 1 Axes>"
      ]
     },
     "metadata": {},
     "output_type": "display_data"
    },
    {
     "name": "stdout",
     "output_type": "stream",
     "text": [
      "None\n"
     ]
    },
    {
     "data": {
      "image/png": "[encoded data removed]",
      "text/plain": [
       "<Figure size 432x288 with 1 Axes>"
      ]
     },
     "metadata": {},
     "output_type": "display_data"
    },
    {
     "name": "stdout",
     "output_type": "stream",
     "text": [
      "None\n"
     ]
    },
    {
     "data": {
      "image/png": "[encoded data removed]",
      "text/plain": [
       "<Figure size 432x288 with 1 Axes>"
      ]
     },
     "metadata": {},
     "output_type": "display_data"
    },
    {
     "name": "stdout",
     "output_type": "stream",
     "text": [
      "None\n"
     ]
    }
   ],
   "source": [
    "public_scaled_df = pd.concat([public_scaled,\n",
    "                        public_data[\"Class\"]],\n",
    "                       axis=1)\n",
    "for feature in public_scaled_df.drop(columns=\"Class\").columns:\n",
    "    public_scaled_df.groupby(\"Class\")[feature].hist()\n",
    "    plt.title(feature+ \" class distribution\")\n",
    "    print(plt.show())\n",
    "\n"
   ]
  },
  {
   "cell_type": "code",
   "execution_count": 32,
   "metadata": {},
   "outputs": [
    {
     "name": "stdout",
     "output_type": "stream",
     "text": [
      "A x B 0.45594899913739995\n",
      "A x D 0.07133038261793932\n",
      "A x F 0.9053527491919926\n",
      "A x G 0.9722228293725423\n",
      "A x I 0.818399477866533\n",
      "A x J 0.8700161418532376\n",
      "A x K 0.9688268409718942\n",
      "A x L 0.13961922160478893\n",
      "A x M 0.9589305776748331\n",
      "A x N 0.9530810727057415\n",
      "A x O 0.9203218267294551\n",
      "B x C 0.5417419491831306\n",
      "B x D 0.8658557861095647\n",
      "B x E 0.352945509847112\n",
      "B x F 0.7607075034625481\n",
      "B x G 0.6206066839190909\n",
      "B x H 0.3395488747773573\n",
      "B x I -0.09855774900748483\n",
      "B x J 0.8032458316210619\n",
      "B x K 0.24642852214341437\n",
      "B x L 0.8546348126678589\n",
      "B x M 0.3450300710350118\n",
      "B x N 0.19457819994773715\n",
      "B x O 0.09880504441797408\n",
      "C x D 0.17622393427281127\n",
      "C x E 0.971805425537075\n",
      "C x F 0.9434815338787507\n",
      "C x H 0.968342197464496\n",
      "C x I 0.7534744977354667\n",
      "C x J 0.9157843192415979\n",
      "C x K 0.9378683341980713\n",
      "C x L 0.23872344593839076\n",
      "C x M 0.9410404838855062\n",
      "C x N 0.916578204618697\n",
      "C x O 0.8737999250049017\n",
      "D x E -0.047458976260814675\n",
      "D x F 0.47718279937971997\n",
      "D x G 0.27924786217156206\n",
      "D x H -0.062450906164409854\n",
      "D x I -0.5026434510949506\n",
      "D x J 0.5443566831477376\n",
      "D x K -0.163679270775464\n",
      "D x L 0.9494853913218356\n",
      "D x M -0.04205688301850702\n",
      "D x N -0.21785567191539132\n",
      "D x O -0.3162406050338606\n",
      "E x F 0.8491289105138361\n",
      "E x G 0.9397046589160256\n",
      "E x I 0.8791417805812575\n",
      "E x J 0.8057487231399187\n",
      "E x L 0.026319113065007223\n",
      "E x M 0.9647694943147336\n",
      "E x N 0.9799254189915618\n",
      "E x O 0.9588846571988762\n",
      "F x G 0.9690546391357668\n",
      "F x H 0.8412265587288262\n",
      "F x I 0.5083454264195518\n",
      "F x K 0.7815344253578488\n",
      "F x L 0.5181168926181521\n",
      "F x M 0.8235514707732727\n",
      "F x N 0.7451560376371786\n",
      "F x O 0.6754155156114411\n",
      "G x H 0.9347137039147949\n",
      "G x I 0.6780427799924875\n",
      "G x J 0.9494290481988785\n",
      "G x K 0.8941138980172161\n",
      "G x L 0.3350391589760239\n",
      "G x M 0.9103850629847614\n",
      "G x N 0.8675460112403681\n",
      "G x O 0.8152813731469433\n",
      "H x I 0.886017303305711\n",
      "H x J 0.7968564462062476\n",
      "H x L 0.01200463769428773\n",
      "H x M 0.9646270703462968\n",
      "H x O 0.9628729726247358\n",
      "I x J 0.4398805516557141\n",
      "I x K 0.926217490788058\n",
      "I x L -0.41811033513211604\n",
      "I x M 0.8488005802749112\n",
      "I x N 0.943365076951413\n",
      "I x O 0.9709650694206441\n",
      "J x K 0.7308408372411506\n",
      "J x L 0.5793094674437674\n",
      "J x M 0.7818149514400204\n",
      "J x N 0.6912726094919175\n",
      "J x O 0.6159313586274205\n",
      "K x L -0.0855434887645855\n",
      "K x M 0.9565978926646935\n",
      "L x M 0.029013289957726715\n",
      "L x N -0.13809742237078546\n",
      "L x O -0.233820096348265\n",
      "M x N 0.947381125833467\n",
      "M x O 0.9266203684543862\n",
      "12\n",
      "['AxC', 'AxE', 'AxH', 'CxG', 'ExH', 'ExK', 'FxJ', 'HxK', 'HxN', 'KxN', 'KxO', 'NxO']\n"
     ]
    }
   ],
   "source": [
    "count = 0\n",
    "matches = []\n",
    "next_col = public_scaled.columns\n",
    "for out in public_scaled.columns:\n",
    "    class_squeeze = np.squeeze(np.asarray(public_data[out]))\n",
    "    next_col = next_col.drop(out)\n",
    "    for col in next_col:\n",
    "        plen = np.squeeze(np.asarray(public_scaled[col]))\n",
    "#         displen = np.dot(class_squeeze, plen)/(np.linalg.norm(class_squeeze)*(np.linalg.norm(plen)))\n",
    "#         print(col,\"x\", out, str(displen))\n",
    "#         print()\n",
    "        if np.corrcoef(plen, class_squeeze)[0][1] > 0.98:\n",
    "            count = count + 1\n",
    "            matches.append(out + \"x\" + col)\n",
    "        else:\n",
    "            print(out,\"x\", col, np.corrcoef(plen, class_squeeze)[0][1])\n",
    "print(count)\n",
    "print(matches)"
   ]
  },
  {
   "cell_type": "code",
   "execution_count": 17,
   "metadata": {},
   "outputs": [],
   "source": [
    "public_scaled = public_scaled.drop(columns = [\"E\", \"H\", \"C\", \"G\", \"K\", \"N\", \"O\", \"J\"])"
   ]
  },
  {
   "cell_type": "code",
   "execution_count": 18,
   "metadata": {},
   "outputs": [
    {
     "name": "stdout",
     "output_type": "stream",
     "text": [
      "A x B 0.45594899913739995\n",
      "A x D 0.07133038261793932\n",
      "A x I 0.818399477866533\n",
      "A x L 0.13961922160478893\n",
      "B x D 0.8658557861095647\n",
      "B x F 0.7607075034625481\n",
      "B x I -0.09855774900748483\n",
      "B x L 0.8546348126678589\n",
      "B x M 0.3450300710350118\n",
      "D x F 0.47718279937971997\n",
      "D x I -0.5026434510949506\n",
      "D x M -0.04205688301850702\n",
      "F x I 0.5083454264195518\n",
      "F x L 0.5181168926181521\n",
      "F x M 0.8235514707732727\n",
      "I x L -0.41811033513211604\n",
      "I x M 0.8488005802749112\n",
      "L x M 0.029013289957726715\n",
      "3\n",
      "['AxF', 'AxM', 'DxL']\n"
     ]
    }
   ],
   "source": [
    "\n",
    "count = 0\n",
    "matches = []\n",
    "next_col = public_scaled.columns\n",
    "for out in public_scaled.columns:\n",
    "    class_squeeze = np.squeeze(np.asarray(public_data[out]))\n",
    "    next_col = next_col.drop(out)\n",
    "    for col in next_col:\n",
    "        plen = np.squeeze(np.asarray(public_scaled[col]))\n",
    "#         displen = np.dot(class_squeeze, plen)/(np.linalg.norm(class_squeeze)*(np.linalg.norm(plen)))\n",
    "#         print(col,\"x\", out, str(displen))\n",
    "#         print()\n",
    "        if np.corrcoef(plen, class_squeeze)[0][1] > 0.9:\n",
    "            count = count + 1\n",
    "            matches.append(out + \"x\" + col)\n",
    "        else:\n",
    "            print(out,\"x\", col, np.corrcoef(plen, class_squeeze)[0][1])\n",
    "\n",
    "print(count)\n",
    "print(matches)"
   ]
  },
  {
   "cell_type": "code",
   "execution_count": 19,
   "metadata": {},
   "outputs": [],
   "source": [
    "public_scaled = public_scaled.drop(columns = [\"F\", \"M\", \"L\"])"
   ]
  },
  {
   "cell_type": "code",
   "execution_count": 20,
   "metadata": {},
   "outputs": [
    {
     "name": "stdout",
     "output_type": "stream",
     "text": [
      "A x B 0.45594899913739995\n",
      "A x D 0.07133038261793932\n",
      "A x I 0.818399477866533\n",
      "B x D 0.8658557861095647\n",
      "B x I -0.09855774900748483\n",
      "D x I -0.5026434510949506\n",
      "0\n",
      "[]\n"
     ]
    }
   ],
   "source": [
    "\n",
    "count = 0\n",
    "matches = []\n",
    "next_col = public_scaled.columns\n",
    "for out in public_scaled.columns:\n",
    "    class_squeeze = np.squeeze(np.asarray(public_data[out]))\n",
    "    next_col = next_col.drop(out)\n",
    "    for col in next_col:\n",
    "        plen = np.squeeze(np.asarray(public_scaled[col]))\n",
    "#         displen = np.dot(class_squeeze, plen)/(np.linalg.norm(class_squeeze)*(np.linalg.norm(plen)))\n",
    "#         print(col,\"x\", out, str(displen))\n",
    "#         print()\n",
    "        if np.corrcoef(plen, class_squeeze)[0][1] > 0.9:\n",
    "            count = count + 1\n",
    "            matches.append(out + \"x\" + col)\n",
    "        else:\n",
    "            print(out,\"x\", col, np.corrcoef(plen, class_squeeze)[0][1])\n",
    "\n",
    "print(count)\n",
    "print(matches)"
   ]
  },
  {
   "cell_type": "code",
   "execution_count": 33,
   "metadata": {},
   "outputs": [
    {
     "data": {
      "text/html": [
       "<div>\n",
       "<style scoped>\n",
       "    .dataframe tbody tr th:only-of-type {\n",
       "        vertical-align: middle;\n",
       "    }\n",
       "\n",
       "    .dataframe tbody tr th {\n",
       "        vertical-align: top;\n",
       "    }\n",
       "\n",
       "    .dataframe thead th {\n",
       "        text-align: right;\n",
       "    }\n",
       "</style>\n",
       "<table border=\"1\" class=\"dataframe\">\n",
       "  <thead>\n",
       "    <tr style=\"text-align: right;\">\n",
       "      <th></th>\n",
       "      <th>A</th>\n",
       "      <th>B</th>\n",
       "      <th>C</th>\n",
       "      <th>D</th>\n",
       "      <th>E</th>\n",
       "      <th>F</th>\n",
       "      <th>G</th>\n",
       "      <th>H</th>\n",
       "      <th>I</th>\n",
       "      <th>J</th>\n",
       "      <th>K</th>\n",
       "      <th>L</th>\n",
       "      <th>M</th>\n",
       "      <th>N</th>\n",
       "      <th>O</th>\n",
       "    </tr>\n",
       "  </thead>\n",
       "  <tbody>\n",
       "    <tr>\n",
       "      <th>count</th>\n",
       "      <td>1.200000e+06</td>\n",
       "      <td>1.200000e+06</td>\n",
       "      <td>1.200000e+06</td>\n",
       "      <td>1.200000e+06</td>\n",
       "      <td>1.200000e+06</td>\n",
       "      <td>1.200000e+06</td>\n",
       "      <td>1.200000e+06</td>\n",
       "      <td>1.200000e+06</td>\n",
       "      <td>1.200000e+06</td>\n",
       "      <td>1.200000e+06</td>\n",
       "      <td>1.200000e+06</td>\n",
       "      <td>1.200000e+06</td>\n",
       "      <td>1.200000e+06</td>\n",
       "      <td>1.200000e+06</td>\n",
       "      <td>1.200000e+06</td>\n",
       "    </tr>\n",
       "    <tr>\n",
       "      <th>mean</th>\n",
       "      <td>-3.643659e-17</td>\n",
       "      <td>-2.155209e-16</td>\n",
       "      <td>2.813494e-16</td>\n",
       "      <td>1.553099e-16</td>\n",
       "      <td>7.729761e-17</td>\n",
       "      <td>-3.568016e-17</td>\n",
       "      <td>9.957905e-17</td>\n",
       "      <td>3.148870e-17</td>\n",
       "      <td>6.199393e-17</td>\n",
       "      <td>-1.551724e-16</td>\n",
       "      <td>9.179620e-17</td>\n",
       "      <td>2.122283e-16</td>\n",
       "      <td>-3.071542e-16</td>\n",
       "      <td>-1.836540e-16</td>\n",
       "      <td>-5.088456e-16</td>\n",
       "    </tr>\n",
       "    <tr>\n",
       "      <th>std</th>\n",
       "      <td>1.000000e+00</td>\n",
       "      <td>1.000000e+00</td>\n",
       "      <td>1.000000e+00</td>\n",
       "      <td>1.000000e+00</td>\n",
       "      <td>1.000000e+00</td>\n",
       "      <td>1.000000e+00</td>\n",
       "      <td>1.000000e+00</td>\n",
       "      <td>1.000000e+00</td>\n",
       "      <td>1.000000e+00</td>\n",
       "      <td>1.000000e+00</td>\n",
       "      <td>1.000000e+00</td>\n",
       "      <td>1.000000e+00</td>\n",
       "      <td>1.000000e+00</td>\n",
       "      <td>1.000000e+00</td>\n",
       "      <td>1.000000e+00</td>\n",
       "    </tr>\n",
       "    <tr>\n",
       "      <th>min</th>\n",
       "      <td>-9.576537e-01</td>\n",
       "      <td>-4.451873e+00</td>\n",
       "      <td>-1.247617e+00</td>\n",
       "      <td>-2.644705e+00</td>\n",
       "      <td>-9.302043e-01</td>\n",
       "      <td>-1.948346e+00</td>\n",
       "      <td>-1.475652e+00</td>\n",
       "      <td>-9.050405e-01</td>\n",
       "      <td>-1.213772e+00</td>\n",
       "      <td>-1.992491e+00</td>\n",
       "      <td>-9.862478e-01</td>\n",
       "      <td>-3.593717e+00</td>\n",
       "      <td>-2.184472e+00</td>\n",
       "      <td>-1.041432e+00</td>\n",
       "      <td>-1.087707e+00</td>\n",
       "    </tr>\n",
       "    <tr>\n",
       "      <th>25%</th>\n",
       "      <td>-6.856782e-01</td>\n",
       "      <td>6.686056e-02</td>\n",
       "      <td>-6.085477e-01</td>\n",
       "      <td>-2.478078e-02</td>\n",
       "      <td>-7.388438e-01</td>\n",
       "      <td>-3.357422e-01</td>\n",
       "      <td>-5.288938e-01</td>\n",
       "      <td>-7.487208e-01</td>\n",
       "      <td>-9.626425e-01</td>\n",
       "      <td>-2.579156e-01</td>\n",
       "      <td>-8.115155e-01</td>\n",
       "      <td>-1.366680e-01</td>\n",
       "      <td>-7.453553e-01</td>\n",
       "      <td>-8.415592e-01</td>\n",
       "      <td>-8.931280e-01</td>\n",
       "    </tr>\n",
       "    <tr>\n",
       "      <th>50%</th>\n",
       "      <td>-6.395787e-01</td>\n",
       "      <td>3.550282e-01</td>\n",
       "      <td>-5.521766e-01</td>\n",
       "      <td>1.182764e-01</td>\n",
       "      <td>-6.647971e-01</td>\n",
       "      <td>-2.540494e-01</td>\n",
       "      <td>-4.541885e-01</td>\n",
       "      <td>-6.701335e-01</td>\n",
       "      <td>1.112827e-01</td>\n",
       "      <td>-1.787165e-01</td>\n",
       "      <td>-5.572950e-01</td>\n",
       "      <td>3.638817e-01</td>\n",
       "      <td>-5.947576e-01</td>\n",
       "      <td>-5.182225e-01</td>\n",
       "      <td>-1.933404e-01</td>\n",
       "    </tr>\n",
       "    <tr>\n",
       "      <th>75%</th>\n",
       "      <td>1.371888e+00</td>\n",
       "      <td>5.723130e-01</td>\n",
       "      <td>1.336639e+00</td>\n",
       "      <td>7.059888e-01</td>\n",
       "      <td>1.365782e+00</td>\n",
       "      <td>1.156495e+00</td>\n",
       "      <td>1.252824e+00</td>\n",
       "      <td>1.358384e+00</td>\n",
       "      <td>1.110893e+00</td>\n",
       "      <td>1.097673e+00</td>\n",
       "      <td>1.320777e+00</td>\n",
       "      <td>6.472593e-01</td>\n",
       "      <td>1.129887e+00</td>\n",
       "      <td>1.291130e+00</td>\n",
       "      <td>1.277773e+00</td>\n",
       "    </tr>\n",
       "    <tr>\n",
       "      <th>max</th>\n",
       "      <td>1.687340e+00</td>\n",
       "      <td>1.610521e+00</td>\n",
       "      <td>1.752916e+00</td>\n",
       "      <td>9.848922e-01</td>\n",
       "      <td>1.765142e+00</td>\n",
       "      <td>1.766344e+00</td>\n",
       "      <td>2.016591e+00</td>\n",
       "      <td>1.758369e+00</td>\n",
       "      <td>1.856630e+00</td>\n",
       "      <td>1.749513e+00</td>\n",
       "      <td>1.902329e+00</td>\n",
       "      <td>1.819692e+00</td>\n",
       "      <td>2.939533e+00</td>\n",
       "      <td>1.923838e+00</td>\n",
       "      <td>1.810468e+00</td>\n",
       "    </tr>\n",
       "  </tbody>\n",
       "</table>\n",
       "</div>"
      ],
      "text/plain": [
       "                  A             B             C             D             E  \\\n",
       "count  1.200000e+06  1.200000e+06  1.200000e+06  1.200000e+06  1.200000e+06   \n",
       "mean  -3.643659e-17 -2.155209e-16  2.813494e-16  1.553099e-16  7.729761e-17   \n",
       "std    1.000000e+00  1.000000e+00  1.000000e+00  1.000000e+00  1.000000e+00   \n",
       "min   -9.576537e-01 -4.451873e+00 -1.247617e+00 -2.644705e+00 -9.302043e-01   \n",
       "25%   -6.856782e-01  6.686056e-02 -6.085477e-01 -2.478078e-02 -7.388438e-01   \n",
       "50%   -6.395787e-01  3.550282e-01 -5.521766e-01  1.182764e-01 -6.647971e-01   \n",
       "75%    1.371888e+00  5.723130e-01  1.336639e+00  7.059888e-01  1.365782e+00   \n",
       "max    1.687340e+00  1.610521e+00  1.752916e+00  9.848922e-01  1.765142e+00   \n",
       "\n",
       "                  F             G             H             I             J  \\\n",
       "count  1.200000e+06  1.200000e+06  1.200000e+06  1.200000e+06  1.200000e+06   \n",
       "mean  -3.568016e-17  9.957905e-17  3.148870e-17  6.199393e-17 -1.551724e-16   \n",
       "std    1.000000e+00  1.000000e+00  1.000000e+00  1.000000e+00  1.000000e+00   \n",
       "min   -1.948346e+00 -1.475652e+00 -9.050405e-01 -1.213772e+00 -1.992491e+00   \n",
       "25%   -3.357422e-01 -5.288938e-01 -7.487208e-01 -9.626425e-01 -2.579156e-01   \n",
       "50%   -2.540494e-01 -4.541885e-01 -6.701335e-01  1.112827e-01 -1.787165e-01   \n",
       "75%    1.156495e+00  1.252824e+00  1.358384e+00  1.110893e+00  1.097673e+00   \n",
       "max    1.766344e+00  2.016591e+00  1.758369e+00  1.856630e+00  1.749513e+00   \n",
       "\n",
       "                  K             L             M             N             O  \n",
       "count  1.200000e+06  1.200000e+06  1.200000e+06  1.200000e+06  1.200000e+06  \n",
       "mean   9.179620e-17  2.122283e-16 -3.071542e-16 -1.836540e-16 -5.088456e-16  \n",
       "std    1.000000e+00  1.000000e+00  1.000000e+00  1.000000e+00  1.000000e+00  \n",
       "min   -9.862478e-01 -3.593717e+00 -2.184472e+00 -1.041432e+00 -1.087707e+00  \n",
       "25%   -8.115155e-01 -1.366680e-01 -7.453553e-01 -8.415592e-01 -8.931280e-01  \n",
       "50%   -5.572950e-01  3.638817e-01 -5.947576e-01 -5.182225e-01 -1.933404e-01  \n",
       "75%    1.320777e+00  6.472593e-01  1.129887e+00  1.291130e+00  1.277773e+00  \n",
       "max    1.902329e+00  1.819692e+00  2.939533e+00  1.923838e+00  1.810468e+00  "
      ]
     },
     "execution_count": 33,
     "metadata": {},
     "output_type": "execute_result"
    }
   ],
   "source": [
    "public_scaled.describe()"
   ]
  },
  {
   "cell_type": "code",
   "execution_count": 34,
   "metadata": {},
   "outputs": [
    {
     "data": {
      "text/plain": [
       "Text(0, 0.5, 'explained_variance_')"
      ]
     },
     "execution_count": 34,
     "metadata": {},
     "output_type": "execute_result"
    },
    {
     "data": {
      "image/png": "[encoded data removed]",
      "text/plain": [
       "<Figure size 288x216 with 1 Axes>"
      ]
     },
     "metadata": {},
     "output_type": "display_data"
    }
   ],
   "source": [
    "\n",
    "pca = decomposition.PCA()\n",
    "pca.fit(public_data.drop(columns=\"Class\"))\n",
    "\n",
    "plt.figure(1, figsize=(4, 3))\n",
    "plt.clf()\n",
    "plt.axes([.2, .2, .7, .7])\n",
    "plt.plot(pca.explained_variance_, linewidth=2)\n",
    "plt.axis('tight')\n",
    "plt.xlabel('n_components')\n",
    "plt.ylabel('explained_variance_')\n"
   ]
  },
  {
   "cell_type": "code",
   "execution_count": 29,
   "metadata": {},
   "outputs": [
    {
     "name": "stdout",
     "output_type": "stream",
     "text": [
      "0.9038957562541423 0.09177111360829747\n"
     ]
    }
   ],
   "source": [
    "print(pca.explained_variance_ratio_[0], pca.explained_variance_ratio_[1])"
   ]
  },
  {
   "cell_type": "markdown",
   "metadata": {},
   "source": [
    "## Model Training - Feature engineering, evaluation metrics, model selection\n",
    "I am using kfold validation to evaluate my models. I am using a k = 5 because the book mentions that k of 5 and k of 10 are the most common to use. My model uses PCA to extract 4 new components to fit into the pipeline. Once the dataset is run through the PCA they enter the Random Forest. This problem deals with classification and choosing between Random Forest and Decision Trees was a hard choice. I decided to use Random Forest as my classifier because it doesn't as easily overfit the data. This is especially true when a large number of trees are used. I choose 20 trees because the more trees used the less the model overfits on the dataset used in training. Since we already know that our dataset is problematic I choose to generate 20 trees even though it does take longer to run the model. I used kfold validation to determine what model to choose and what to train it on. My main metrics was too look for a high fscore and high TPR and FPR. The model that I choose had a 100% fscore and 100% TPR and 0% FPR. I realize that this is an ideal score but consdering that I already had split my data before I performed cross validation on my training set I was pretty confident that the metrics that I got from the test set were pretty good. Thus I choose my model to have a pipeline of PCA with 4 components and a Random Forest with 20 trees. Confident that the classification metrics on the reserved test set are solid.\n",
    "\n"
   ]
  },
  {
   "cell_type": "code",
   "execution_count": 40,
   "metadata": {},
   "outputs": [],
   "source": [
    "preprocessor = decomposition.PCA(n_components=4)\n",
    "classifier = RandomForestClassifier(n_estimators=20, max_depth=2, random_state=0)\n",
    "pipeline = Pipeline(steps=[\n",
    "    ('preprocessor',\n",
    "    preprocessor),\n",
    "    ('classifier',\n",
    "     classifier)\n",
    "])\n"
   ]
  },
  {
   "cell_type": "code",
   "execution_count": 41,
   "metadata": {},
   "outputs": [],
   "source": [
    "data_train, data_test, target_train, target_test = train_test_split(public_data.drop(columns=[\"Class\"]),\n",
    "                                                   public_data[\"Class\"],\n",
    "                                                 test_size=0.3)"
   ]
  },
  {
   "cell_type": "code",
   "execution_count": 42,
   "metadata": {},
   "outputs": [
    {
     "name": "stdout",
     "output_type": "stream",
     "text": [
      "Train [168000 168001 168002 ... 839997 839998 839999] Test [     0      1      2 ... 167997 167998 167999]\n",
      "              precision    recall  f1-score   support\n",
      "\n",
      "           1       1.00      1.00      1.00     27945\n",
      "           2       1.00      1.00      1.00     83953\n",
      "           3       1.00      1.00      1.00     56102\n",
      "\n",
      "   micro avg       1.00      1.00      1.00    168000\n",
      "   macro avg       1.00      1.00      1.00    168000\n",
      "weighted avg       1.00      1.00      1.00    168000\n",
      "\n"
     ]
    },
    {
     "name": "stderr",
     "output_type": "stream",
     "text": [
      "/home/mahmoud/anaconda3/lib/python3.6/site-packages/ipykernel_launcher.py:25: RuntimeWarning: divide by zero encountered in double_scalars\n"
     ]
    },
    {
     "name": "stdout",
     "output_type": "stream",
     "text": [
      "TPR 1.0 FPR 0.0 Ratio inf\n",
      "Train [     0      1      2 ... 839997 839998 839999] Test [168000 168001 168002 ... 335997 335998 335999]\n",
      "              precision    recall  f1-score   support\n",
      "\n",
      "           1       1.00      1.00      1.00     27761\n",
      "           2       1.00      1.00      1.00     84078\n",
      "           3       1.00      1.00      1.00     56161\n",
      "\n",
      "   micro avg       1.00      1.00      1.00    168000\n",
      "   macro avg       1.00      1.00      1.00    168000\n",
      "weighted avg       1.00      1.00      1.00    168000\n",
      "\n"
     ]
    },
    {
     "name": "stderr",
     "output_type": "stream",
     "text": [
      "/home/mahmoud/anaconda3/lib/python3.6/site-packages/ipykernel_launcher.py:25: RuntimeWarning: divide by zero encountered in double_scalars\n"
     ]
    },
    {
     "name": "stdout",
     "output_type": "stream",
     "text": [
      "TPR 1.0 FPR 0.0 Ratio inf\n",
      "Train [     0      1      2 ... 839997 839998 839999] Test [336000 336001 336002 ... 503997 503998 503999]\n",
      "              precision    recall  f1-score   support\n",
      "\n",
      "           1       1.00      1.00      1.00     28100\n",
      "           2       1.00      1.00      1.00     83963\n",
      "           3       1.00      1.00      1.00     55937\n",
      "\n",
      "   micro avg       1.00      1.00      1.00    168000\n",
      "   macro avg       1.00      1.00      1.00    168000\n",
      "weighted avg       1.00      1.00      1.00    168000\n",
      "\n"
     ]
    },
    {
     "name": "stderr",
     "output_type": "stream",
     "text": [
      "/home/mahmoud/anaconda3/lib/python3.6/site-packages/ipykernel_launcher.py:25: RuntimeWarning: divide by zero encountered in double_scalars\n"
     ]
    },
    {
     "name": "stdout",
     "output_type": "stream",
     "text": [
      "TPR 1.0 FPR 0.0 Ratio inf\n",
      "Train [     0      1      2 ... 839997 839998 839999] Test [504000 504001 504002 ... 671997 671998 671999]\n",
      "              precision    recall  f1-score   support\n",
      "\n",
      "           1       1.00      1.00      1.00     27987\n",
      "           2       1.00      1.00      1.00     84212\n",
      "           3       1.00      1.00      1.00     55801\n",
      "\n",
      "   micro avg       1.00      1.00      1.00    168000\n",
      "   macro avg       1.00      1.00      1.00    168000\n",
      "weighted avg       1.00      1.00      1.00    168000\n",
      "\n"
     ]
    },
    {
     "name": "stderr",
     "output_type": "stream",
     "text": [
      "/home/mahmoud/anaconda3/lib/python3.6/site-packages/ipykernel_launcher.py:25: RuntimeWarning: divide by zero encountered in double_scalars\n"
     ]
    },
    {
     "name": "stdout",
     "output_type": "stream",
     "text": [
      "TPR 1.0 FPR 0.0 Ratio inf\n",
      "Train [     0      1      2 ... 671997 671998 671999] Test [672000 672001 672002 ... 839997 839998 839999]\n",
      "              precision    recall  f1-score   support\n",
      "\n",
      "           1       1.00      1.00      1.00     28194\n",
      "           2       1.00      1.00      1.00     84083\n",
      "           3       1.00      1.00      1.00     55723\n",
      "\n",
      "   micro avg       1.00      1.00      1.00    168000\n",
      "   macro avg       1.00      1.00      1.00    168000\n",
      "weighted avg       1.00      1.00      1.00    168000\n",
      "\n",
      "TPR 1.0 FPR 0.0 Ratio inf\n"
     ]
    },
    {
     "name": "stderr",
     "output_type": "stream",
     "text": [
      "/home/mahmoud/anaconda3/lib/python3.6/site-packages/ipykernel_launcher.py:25: RuntimeWarning: divide by zero encountered in double_scalars\n"
     ]
    }
   ],
   "source": [
    "l = []\n",
    "for train_index, test_index in KFold(5).split(data_train):\n",
    "    print(\"Train\", train_index, \"Test\", test_index)\n",
    "    X_train, X_test = data_train.values[train_index], data_train.values[test_index]\n",
    "    y_train, y_test = target_train.values[train_index], target_train.values[test_index]\n",
    "    l.append((train_index, test_index))\n",
    "    pipeline.fit(X_train, y_train)\n",
    "    pred = pipeline.predict(X_test)\n",
    "    print(metrics.classification_report(y_test,\n",
    "                                    pred))\n",
    "    cmatrix = metrics.confusion_matrix(y_test,pred)\n",
    "    FP = cmatrix.sum(axis=0) - np.diag(cmatrix)  \n",
    "    FN = cmatrix.sum(axis=1) - np.diag(cmatrix)\n",
    "    TP = np.diag(cmatrix)\n",
    "    TN = cmatrix.sum() - (FP + FN + TP)\n",
    "\n",
    "    FP = FP.astype(float)\n",
    "    FN = FN.astype(float)\n",
    "    TP = TP.astype(float)\n",
    "    TN = TN.astype(float)\n",
    "\n",
    "    # Sensitivity, hit rate, recall, or true positive rate\n",
    "    TPR = TP/(TP+FN)\n",
    "    FPR = FP/(FP+TN)\n",
    "    print(\"TPR\", np.mean(TPR), \"FPR\", np.mean(FPR), \"Ratio\", np.mean(TPR)/np.mean(FPR))\n",
    "    \n"
   ]
  },
  {
   "cell_type": "code",
   "execution_count": 39,
   "metadata": {},
   "outputs": [],
   "source": [
    "my_train_indices = l[0][0]"
   ]
  },
  {
   "cell_type": "code",
   "execution_count": 37,
   "metadata": {},
   "outputs": [],
   "source": [
    "preprocessor = decomposition.PCA(n_components=2)\n",
    "\n",
    "classifier = RandomForestClassifier(n_estimators=10, max_depth=2, random_state=0)\n",
    "pipeline = Pipeline(steps=[\n",
    "    ('preprocessor',\n",
    "    preprocessor),\n",
    "    ('classifier',\n",
    "     classifier)\n",
    "])\n"
   ]
  },
  {
   "cell_type": "code",
   "execution_count": 38,
   "metadata": {},
   "outputs": [
    {
     "name": "stdout",
     "output_type": "stream",
     "text": [
      "Train [168000 168001 168002 ... 839997 839998 839999] Test [     0      1      2 ... 167997 167998 167999]\n",
      "              precision    recall  f1-score   support\n",
      "\n",
      "           1       1.00      1.00      1.00     27942\n",
      "           2       1.00      1.00      1.00     83902\n",
      "           3       1.00      1.00      1.00     56156\n",
      "\n",
      "   micro avg       1.00      1.00      1.00    168000\n",
      "   macro avg       1.00      1.00      1.00    168000\n",
      "weighted avg       1.00      1.00      1.00    168000\n",
      "\n"
     ]
    },
    {
     "name": "stderr",
     "output_type": "stream",
     "text": [
      "/home/mahmoud/anaconda3/lib/python3.6/site-packages/ipykernel_launcher.py:25: RuntimeWarning: divide by zero encountered in double_scalars\n"
     ]
    },
    {
     "name": "stdout",
     "output_type": "stream",
     "text": [
      "TPR 1.0 FPR 0.0 Ratio inf\n",
      "Train [     0      1      2 ... 839997 839998 839999] Test [168000 168001 168002 ... 335997 335998 335999]\n",
      "              precision    recall  f1-score   support\n",
      "\n",
      "           1       1.00      1.00      1.00     28196\n",
      "           2       1.00      1.00      1.00     83754\n",
      "           3       1.00      1.00      1.00     56050\n",
      "\n",
      "   micro avg       1.00      1.00      1.00    168000\n",
      "   macro avg       1.00      1.00      1.00    168000\n",
      "weighted avg       1.00      1.00      1.00    168000\n",
      "\n"
     ]
    },
    {
     "name": "stderr",
     "output_type": "stream",
     "text": [
      "/home/mahmoud/anaconda3/lib/python3.6/site-packages/ipykernel_launcher.py:25: RuntimeWarning: divide by zero encountered in double_scalars\n"
     ]
    },
    {
     "name": "stdout",
     "output_type": "stream",
     "text": [
      "TPR 1.0 FPR 0.0 Ratio inf\n",
      "Train [     0      1      2 ... 839997 839998 839999] Test [336000 336001 336002 ... 503997 503998 503999]\n",
      "              precision    recall  f1-score   support\n",
      "\n",
      "           1       1.00      1.00      1.00     27780\n",
      "           2       1.00      1.00      1.00     84027\n",
      "           3       1.00      1.00      1.00     56193\n",
      "\n",
      "   micro avg       1.00      1.00      1.00    168000\n",
      "   macro avg       1.00      1.00      1.00    168000\n",
      "weighted avg       1.00      1.00      1.00    168000\n",
      "\n"
     ]
    },
    {
     "name": "stderr",
     "output_type": "stream",
     "text": [
      "/home/mahmoud/anaconda3/lib/python3.6/site-packages/ipykernel_launcher.py:25: RuntimeWarning: divide by zero encountered in double_scalars\n"
     ]
    },
    {
     "name": "stdout",
     "output_type": "stream",
     "text": [
      "TPR 1.0 FPR 0.0 Ratio inf\n",
      "Train [     0      1      2 ... 839997 839998 839999] Test [504000 504001 504002 ... 671997 671998 671999]\n",
      "              precision    recall  f1-score   support\n",
      "\n",
      "           1       1.00      1.00      1.00     27808\n",
      "           2       1.00      1.00      1.00     84284\n",
      "           3       1.00      1.00      1.00     55908\n",
      "\n",
      "   micro avg       1.00      1.00      1.00    168000\n",
      "   macro avg       1.00      1.00      1.00    168000\n",
      "weighted avg       1.00      1.00      1.00    168000\n",
      "\n"
     ]
    },
    {
     "name": "stderr",
     "output_type": "stream",
     "text": [
      "/home/mahmoud/anaconda3/lib/python3.6/site-packages/ipykernel_launcher.py:25: RuntimeWarning: divide by zero encountered in double_scalars\n"
     ]
    },
    {
     "name": "stdout",
     "output_type": "stream",
     "text": [
      "TPR 1.0 FPR 0.0 Ratio inf\n",
      "Train [     0      1      2 ... 671997 671998 671999] Test [672000 672001 672002 ... 839997 839998 839999]\n",
      "              precision    recall  f1-score   support\n",
      "\n",
      "           1       1.00      1.00      1.00     28131\n",
      "           2       1.00      1.00      1.00     84062\n",
      "           3       1.00      1.00      1.00     55807\n",
      "\n",
      "   micro avg       1.00      1.00      1.00    168000\n",
      "   macro avg       1.00      1.00      1.00    168000\n",
      "weighted avg       1.00      1.00      1.00    168000\n",
      "\n",
      "TPR 1.0 FPR 0.0 Ratio inf\n"
     ]
    },
    {
     "name": "stderr",
     "output_type": "stream",
     "text": [
      "/home/mahmoud/anaconda3/lib/python3.6/site-packages/ipykernel_launcher.py:25: RuntimeWarning: divide by zero encountered in double_scalars\n"
     ]
    }
   ],
   "source": [
    "l = []\n",
    "for train_index, test_index in KFold(5).split(data_train):\n",
    "    print(\"Train\", train_index, \"Test\", test_index)\n",
    "    X_train, X_test = data_train.values[train_index], data_train.values[test_index]\n",
    "    y_train, y_test = target_train.values[train_index], target_train.values[test_index]\n",
    "    l.append((train_index, test_index))\n",
    "    pipeline.fit(X_train, y_train)\n",
    "    pred = pipeline.predict(X_test)\n",
    "    print(metrics.classification_report(y_test,\n",
    "                                    pred))\n",
    "    cmatrix = metrics.confusion_matrix(y_test,pred)\n",
    "    FP = cmatrix.sum(axis=0) - np.diag(cmatrix)  \n",
    "    FN = cmatrix.sum(axis=1) - np.diag(cmatrix)\n",
    "    TP = np.diag(cmatrix)\n",
    "    TN = cmatrix.sum() - (FP + FN + TP)\n",
    "\n",
    "    FP = FP.astype(float)\n",
    "    FN = FN.astype(float)\n",
    "    TP = TP.astype(float)\n",
    "    TN = TN.astype(float)\n",
    "\n",
    "    # Sensitivity, hit rate, recall, or true positive rate\n",
    "    TPR = TP/(TP+FN)\n",
    "    FPR = FP/(FP+TN)\n",
    "    print(\"TPR\", np.mean(TPR), \"FPR\", np.mean(FPR), \"Ratio\", np.mean(TPR)/np.mean(FPR))\n",
    "    \n"
   ]
  },
  {
   "cell_type": "code",
   "execution_count": 33,
   "metadata": {},
   "outputs": [],
   "source": [
    "preprocessor = Pipeline(steps=[\n",
    "    ('PCA',\n",
    "     decomposition.PCA()),\n",
    "    ('scaler',\n",
    "     StandardScaler())\n",
    "])\n",
    "classifier = RandomForestClassifier(n_estimators=10, max_depth=2, random_state=0)\n",
    "pipeline = Pipeline(steps=[\n",
    "    ('preprocessor',\n",
    "    preprocessor),\n",
    "    ('classifier',\n",
    "     classifier)\n",
    "])"
   ]
  },
  {
   "cell_type": "code",
   "execution_count": 34,
   "metadata": {},
   "outputs": [
    {
     "name": "stdout",
     "output_type": "stream",
     "text": [
      "Train [ 240000  240001  240002 ... 1199997 1199998 1199999] Test [     0      1      2 ... 239997 239998 239999]\n",
      "              precision    recall  f1-score   support\n",
      "\n",
      "           1       1.00      0.00      0.00     40115\n",
      "           2       1.00      1.00      1.00    120110\n",
      "           3       0.67      1.00      0.80     79775\n",
      "\n",
      "   micro avg       0.83      0.83      0.83    240000\n",
      "   macro avg       0.89      0.67      0.60    240000\n",
      "weighted avg       0.89      0.83      0.77    240000\n",
      "\n",
      "TPR 0.6668910216461009 FPR 0.08339938627971083 Ratio 7.996354066796536\n",
      "Train [      0       1       2 ... 1199997 1199998 1199999] Test [240000 240001 240002 ... 479997 479998 479999]\n",
      "              precision    recall  f1-score   support\n",
      "\n",
      "           1       1.00      0.09      0.17     40204\n",
      "           2       0.88      1.00      0.94    120041\n",
      "           3       0.80      1.00      0.89     79755\n",
      "\n",
      "   micro avg       0.85      0.85      0.85    240000\n",
      "   macro avg       0.89      0.70      0.66    240000\n",
      "weighted avg       0.87      0.85      0.79    240000\n",
      "\n",
      "TPR 0.6972191821709283 FPR 0.08726025368065186 Ratio 7.990111795028187\n",
      "Train [      0       1       2 ... 1199997 1199998 1199999] Test [480000 480001 480002 ... 719997 719998 719999]\n",
      "              precision    recall  f1-score   support\n",
      "\n",
      "           1       1.00      0.03      0.06     39825\n",
      "           2       1.00      1.00      1.00    120089\n",
      "           3       0.67      1.00      0.81     80086\n",
      "\n",
      "   micro avg       0.84      0.84      0.84    240000\n",
      "   macro avg       0.89      0.68      0.62    240000\n",
      "weighted avg       0.89      0.84      0.78    240000\n",
      "\n",
      "TPR 0.6762000418497593 FPR 0.0806391768909122 Ratio 8.385502778190748\n",
      "Train [      0       1       2 ... 1199997 1199998 1199999] Test [720000 720001 720002 ... 959997 959998 959999]\n",
      "              precision    recall  f1-score   support\n",
      "\n",
      "           1       1.00      0.08      0.14     39808\n",
      "           2       0.86      1.00      0.92    119811\n",
      "           3       0.82      1.00      0.90     80381\n",
      "\n",
      "   micro avg       0.85      0.85      0.85    240000\n",
      "   macro avg       0.89      0.69      0.66    240000\n",
      "weighted avg       0.87      0.85      0.79    240000\n",
      "\n",
      "TPR 0.6922896570203644 FPR 0.09015882594822444 Ratio 7.678556699683799\n",
      "Train [     0      1      2 ... 959997 959998 959999] Test [ 960000  960001  960002 ... 1199997 1199998 1199999]\n",
      "              precision    recall  f1-score   support\n",
      "\n",
      "           1       1.00      0.12      0.21     40151\n",
      "           2       1.00      1.00      1.00    119780\n",
      "           3       0.69      1.00      0.82     80069\n",
      "\n",
      "   micro avg       0.85      0.85      0.85    240000\n",
      "   macro avg       0.90      0.71      0.68    240000\n",
      "weighted avg       0.90      0.85      0.81    240000\n",
      "\n",
      "TPR 0.7061177388691023 FPR 0.07377973417703051 Ratio 9.570619178090432\n"
     ]
    }
   ],
   "source": [
    "l = []\n",
    "for train_index, test_index in KFold(5).split(data_train):\n",
    "    print(\"Train\", train_index, \"Test\", test_index)\n",
    "    X_train, X_test = data_train.values[train_index], data_train.values[test_index]\n",
    "    y_train, y_test = target_train.values[train_index], target_train.values[test_index]\n",
    "    l.append((train_index, test_index))\n",
    "    pipeline.fit(X_train, y_train)\n",
    "    pred = pipeline.predict(X_test)\n",
    "    print(metrics.classification_report(y_test,\n",
    "                                    pred))\n",
    "    cmatrix = metrics.confusion_matrix(y_test,pred)\n",
    "    FP = cmatrix.sum(axis=0) - np.diag(cmatrix)  \n",
    "    FN = cmatrix.sum(axis=1) - np.diag(cmatrix)\n",
    "    TP = np.diag(cmatrix)\n",
    "    TN = cmatrix.sum() - (FP + FN + TP)\n",
    "\n",
    "    FP = FP.astype(float)\n",
    "    FN = FN.astype(float)\n",
    "    TP = TP.astype(float)\n",
    "    TN = TN.astype(float)\n",
    "\n",
    "    # Sensitivity, hit rate, recall, or true positive rate\n",
    "    TPR = TP/(TP+FN)\n",
    "    FPR = FP/(FP+TN)\n",
    "    print(\"TPR\", np.mean(TPR), \"FPR\", np.mean(FPR), \"Ratio\", np.mean(TPR)/np.mean(FPR))\n",
    "    \n"
   ]
  },
  {
   "cell_type": "markdown",
   "metadata": {},
   "source": [
    "## Model Validation - Testing results, performance criteria, biases/risks\n",
    "The models testing results are really good. The model is giving me a fscore of 1 and 100% True Positive Rate and 0% False Positive Rate. The biases that follow with using the data that we have to train the model can lead to overfitting especially since the data expresses strange patterns. It seems that the data is very homogenous and isn't very representative of the population. The high correlation between the features and the class lead to the model being overfitted for this specific dataset.  "
   ]
  },
  {
   "cell_type": "code",
   "execution_count": 49,
   "metadata": {},
   "outputs": [],
   "source": [
    "X_train, X_test = data_train.values[my_train_indices], data_test\n",
    "y_train, y_test = target_train.values[my_train_indices], target_test"
   ]
  },
  {
   "cell_type": "code",
   "execution_count": 53,
   "metadata": {},
   "outputs": [
    {
     "data": {
      "text/html": [
       "<div>\n",
       "<style scoped>\n",
       "    .dataframe tbody tr th:only-of-type {\n",
       "        vertical-align: middle;\n",
       "    }\n",
       "\n",
       "    .dataframe tbody tr th {\n",
       "        vertical-align: top;\n",
       "    }\n",
       "\n",
       "    .dataframe thead th {\n",
       "        text-align: right;\n",
       "    }\n",
       "</style>\n",
       "<table border=\"1\" class=\"dataframe\">\n",
       "  <thead>\n",
       "    <tr style=\"text-align: right;\">\n",
       "      <th></th>\n",
       "      <th>A</th>\n",
       "      <th>B</th>\n",
       "      <th>C</th>\n",
       "      <th>D</th>\n",
       "      <th>E</th>\n",
       "      <th>F</th>\n",
       "      <th>G</th>\n",
       "      <th>H</th>\n",
       "      <th>I</th>\n",
       "      <th>J</th>\n",
       "      <th>K</th>\n",
       "      <th>L</th>\n",
       "      <th>M</th>\n",
       "      <th>N</th>\n",
       "      <th>O</th>\n",
       "      <th>Class</th>\n",
       "    </tr>\n",
       "  </thead>\n",
       "  <tbody>\n",
       "    <tr>\n",
       "      <th>0</th>\n",
       "      <td>-37.550799</td>\n",
       "      <td>-8.712215</td>\n",
       "      <td>9.133864</td>\n",
       "      <td>17.788328</td>\n",
       "      <td>-28.357000</td>\n",
       "      <td>-29.265105</td>\n",
       "      <td>-2.763102</td>\n",
       "      <td>-27.961450</td>\n",
       "      <td>-8.553221</td>\n",
       "      <td>17.913225</td>\n",
       "      <td>5.282540</td>\n",
       "      <td>-0.435865</td>\n",
       "      <td>-57.995173</td>\n",
       "      <td>-4.883147</td>\n",
       "      <td>-1.327732</td>\n",
       "      <td>2</td>\n",
       "    </tr>\n",
       "    <tr>\n",
       "      <th>1</th>\n",
       "      <td>-27.829048</td>\n",
       "      <td>-14.130431</td>\n",
       "      <td>9.037911</td>\n",
       "      <td>20.297458</td>\n",
       "      <td>-19.612548</td>\n",
       "      <td>-26.945718</td>\n",
       "      <td>-0.053396</td>\n",
       "      <td>-24.209625</td>\n",
       "      <td>-8.468128</td>\n",
       "      <td>24.505171</td>\n",
       "      <td>5.405890</td>\n",
       "      <td>11.777350</td>\n",
       "      <td>-55.227240</td>\n",
       "      <td>-6.983454</td>\n",
       "      <td>-2.190366</td>\n",
       "      <td>2</td>\n",
       "    </tr>\n",
       "    <tr>\n",
       "      <th>2</th>\n",
       "      <td>-26.696217</td>\n",
       "      <td>-12.596979</td>\n",
       "      <td>14.582814</td>\n",
       "      <td>16.869124</td>\n",
       "      <td>-24.192273</td>\n",
       "      <td>-28.699077</td>\n",
       "      <td>1.063033</td>\n",
       "      <td>-35.458667</td>\n",
       "      <td>-8.327425</td>\n",
       "      <td>30.355786</td>\n",
       "      <td>-0.382990</td>\n",
       "      <td>1.900576</td>\n",
       "      <td>-56.630381</td>\n",
       "      <td>-2.797531</td>\n",
       "      <td>3.156694</td>\n",
       "      <td>2</td>\n",
       "    </tr>\n",
       "    <tr>\n",
       "      <th>3</th>\n",
       "      <td>-36.737883</td>\n",
       "      <td>-11.188791</td>\n",
       "      <td>8.439719</td>\n",
       "      <td>20.555723</td>\n",
       "      <td>-22.757601</td>\n",
       "      <td>-21.277989</td>\n",
       "      <td>2.172978</td>\n",
       "      <td>-27.716255</td>\n",
       "      <td>-6.565886</td>\n",
       "      <td>26.641757</td>\n",
       "      <td>6.162232</td>\n",
       "      <td>2.465152</td>\n",
       "      <td>-56.643885</td>\n",
       "      <td>-3.692401</td>\n",
       "      <td>-7.532692</td>\n",
       "      <td>2</td>\n",
       "    </tr>\n",
       "    <tr>\n",
       "      <th>4</th>\n",
       "      <td>235.596328</td>\n",
       "      <td>-10.655889</td>\n",
       "      <td>226.897029</td>\n",
       "      <td>-11.988357</td>\n",
       "      <td>128.102546</td>\n",
       "      <td>86.054199</td>\n",
       "      <td>113.616872</td>\n",
       "      <td>203.377657</td>\n",
       "      <td>84.875998</td>\n",
       "      <td>138.228102</td>\n",
       "      <td>225.237864</td>\n",
       "      <td>-8.014168</td>\n",
       "      <td>-14.493232</td>\n",
       "      <td>132.363027</td>\n",
       "      <td>143.865274</td>\n",
       "      <td>3</td>\n",
       "    </tr>\n",
       "  </tbody>\n",
       "</table>\n",
       "</div>"
      ],
      "text/plain": [
       "            A          B           C          D           E          F  \\\n",
       "0  -37.550799  -8.712215    9.133864  17.788328  -28.357000 -29.265105   \n",
       "1  -27.829048 -14.130431    9.037911  20.297458  -19.612548 -26.945718   \n",
       "2  -26.696217 -12.596979   14.582814  16.869124  -24.192273 -28.699077   \n",
       "3  -36.737883 -11.188791    8.439719  20.555723  -22.757601 -21.277989   \n",
       "4  235.596328 -10.655889  226.897029 -11.988357  128.102546  86.054199   \n",
       "\n",
       "            G           H          I           J           K          L  \\\n",
       "0   -2.763102  -27.961450  -8.553221   17.913225    5.282540  -0.435865   \n",
       "1   -0.053396  -24.209625  -8.468128   24.505171    5.405890  11.777350   \n",
       "2    1.063033  -35.458667  -8.327425   30.355786   -0.382990   1.900576   \n",
       "3    2.172978  -27.716255  -6.565886   26.641757    6.162232   2.465152   \n",
       "4  113.616872  203.377657  84.875998  138.228102  225.237864  -8.014168   \n",
       "\n",
       "           M           N           O  Class  \n",
       "0 -57.995173   -4.883147   -1.327732      2  \n",
       "1 -55.227240   -6.983454   -2.190366      2  \n",
       "2 -56.630381   -2.797531    3.156694      2  \n",
       "3 -56.643885   -3.692401   -7.532692      2  \n",
       "4 -14.493232  132.363027  143.865274      3  "
      ]
     },
     "execution_count": 53,
     "metadata": {},
     "output_type": "execute_result"
    }
   ],
   "source": [
    "pd_xtrain = pd.DataFrame(X_train, columns=data_train.columns)\n",
    "pd_ytrain = pd.DataFrame(y_train, columns=[\"Class\"])\n",
    "pub_train = pd.concat([pd_xtrain,\n",
    "                        pd_ytrain],\n",
    "                       axis=1)\n",
    "pub_train.head()"
   ]
  },
  {
   "cell_type": "code",
   "execution_count": 54,
   "metadata": {},
   "outputs": [
    {
     "data": {
      "text/html": [
       "<div>\n",
       "<style scoped>\n",
       "    .dataframe tbody tr th:only-of-type {\n",
       "        vertical-align: middle;\n",
       "    }\n",
       "\n",
       "    .dataframe tbody tr th {\n",
       "        vertical-align: top;\n",
       "    }\n",
       "\n",
       "    .dataframe thead th {\n",
       "        text-align: right;\n",
       "    }\n",
       "</style>\n",
       "<table border=\"1\" class=\"dataframe\">\n",
       "  <thead>\n",
       "    <tr style=\"text-align: right;\">\n",
       "      <th></th>\n",
       "      <th>A</th>\n",
       "      <th>B</th>\n",
       "      <th>C</th>\n",
       "      <th>D</th>\n",
       "      <th>E</th>\n",
       "      <th>F</th>\n",
       "      <th>G</th>\n",
       "      <th>H</th>\n",
       "      <th>I</th>\n",
       "      <th>J</th>\n",
       "      <th>K</th>\n",
       "      <th>L</th>\n",
       "      <th>M</th>\n",
       "      <th>N</th>\n",
       "      <th>O</th>\n",
       "      <th>Class</th>\n",
       "    </tr>\n",
       "  </thead>\n",
       "  <tbody>\n",
       "    <tr>\n",
       "      <th>count</th>\n",
       "      <td>672000.000000</td>\n",
       "      <td>672000.000000</td>\n",
       "      <td>672000.000000</td>\n",
       "      <td>672000.000000</td>\n",
       "      <td>672000.000000</td>\n",
       "      <td>672000.000000</td>\n",
       "      <td>672000.000000</td>\n",
       "      <td>672000.000000</td>\n",
       "      <td>672000.000000</td>\n",
       "      <td>672000.000000</td>\n",
       "      <td>672000.000000</td>\n",
       "      <td>672000.000000</td>\n",
       "      <td>672000.000000</td>\n",
       "      <td>672000.000000</td>\n",
       "      <td>672000.000000</td>\n",
       "      <td>672000.000000</td>\n",
       "    </tr>\n",
       "    <tr>\n",
       "      <th>mean</th>\n",
       "      <td>50.525268</td>\n",
       "      <td>-18.832906</td>\n",
       "      <td>71.492735</td>\n",
       "      <td>-13.527466</td>\n",
       "      <td>29.347490</td>\n",
       "      <td>-6.256262</td>\n",
       "      <td>31.672198</td>\n",
       "      <td>50.984979</td>\n",
       "      <td>32.937747</td>\n",
       "      <td>40.865824</td>\n",
       "      <td>79.246846</td>\n",
       "      <td>-6.732587</td>\n",
       "      <td>-42.339880</td>\n",
       "      <td>49.396782</td>\n",
       "      <td>59.712785</td>\n",
       "      <td>2.166042</td>\n",
       "    </tr>\n",
       "    <tr>\n",
       "      <th>std</th>\n",
       "      <td>129.190136</td>\n",
       "      <td>14.464993</td>\n",
       "      <td>105.230640</td>\n",
       "      <td>46.895533</td>\n",
       "      <td>72.788486</td>\n",
       "      <td>73.049501</td>\n",
       "      <td>66.566010</td>\n",
       "      <td>103.362730</td>\n",
       "      <td>42.161295</td>\n",
       "      <td>76.921441</td>\n",
       "      <td>94.800054</td>\n",
       "      <td>15.574137</td>\n",
       "      <td>17.909028</td>\n",
       "      <td>67.261737</td>\n",
       "      <td>66.751650</td>\n",
       "      <td>0.686972</td>\n",
       "    </tr>\n",
       "    <tr>\n",
       "      <th>min</th>\n",
       "      <td>-73.089401</td>\n",
       "      <td>-83.223570</td>\n",
       "      <td>-59.396519</td>\n",
       "      <td>-137.490156</td>\n",
       "      <td>-38.298257</td>\n",
       "      <td>-148.591728</td>\n",
       "      <td>-64.477157</td>\n",
       "      <td>-42.460894</td>\n",
       "      <td>-17.705980</td>\n",
       "      <td>-112.384444</td>\n",
       "      <td>-14.152332</td>\n",
       "      <td>-62.718276</td>\n",
       "      <td>-80.393454</td>\n",
       "      <td>-20.309609</td>\n",
       "      <td>-12.762138</td>\n",
       "      <td>1.000000</td>\n",
       "    </tr>\n",
       "    <tr>\n",
       "      <th>25%</th>\n",
       "      <td>-37.944022</td>\n",
       "      <td>-17.863878</td>\n",
       "      <td>7.550170</td>\n",
       "      <td>-14.717010</td>\n",
       "      <td>-24.362737</td>\n",
       "      <td>-30.734880</td>\n",
       "      <td>-3.483618</td>\n",
       "      <td>-26.310379</td>\n",
       "      <td>-7.601574</td>\n",
       "      <td>21.089268</td>\n",
       "      <td>2.404117</td>\n",
       "      <td>-8.860204</td>\n",
       "      <td>-55.676535</td>\n",
       "      <td>-7.137705</td>\n",
       "      <td>0.164628</td>\n",
       "      <td>2.000000</td>\n",
       "    </tr>\n",
       "    <tr>\n",
       "      <th>50%</th>\n",
       "      <td>-31.992405</td>\n",
       "      <td>-13.694468</td>\n",
       "      <td>13.473164</td>\n",
       "      <td>10.591813</td>\n",
       "      <td>-18.994289</td>\n",
       "      <td>-24.760462</td>\n",
       "      <td>1.489937</td>\n",
       "      <td>-18.297642</td>\n",
       "      <td>-0.898131</td>\n",
       "      <td>27.169660</td>\n",
       "      <td>12.717691</td>\n",
       "      <td>-1.066143</td>\n",
       "      <td>-52.983461</td>\n",
       "      <td>1.843428</td>\n",
       "      <td>8.847949</td>\n",
       "      <td>2.000000</td>\n",
       "    </tr>\n",
       "    <tr>\n",
       "      <th>75%</th>\n",
       "      <td>227.980620</td>\n",
       "      <td>-10.560160</td>\n",
       "      <td>212.275156</td>\n",
       "      <td>19.559539</td>\n",
       "      <td>128.875443</td>\n",
       "      <td>78.291052</td>\n",
       "      <td>115.140273</td>\n",
       "      <td>191.559137</td>\n",
       "      <td>79.830577</td>\n",
       "      <td>125.345913</td>\n",
       "      <td>204.593454</td>\n",
       "      <td>3.344238</td>\n",
       "      <td>-22.100853</td>\n",
       "      <td>136.346344</td>\n",
       "      <td>145.094506</td>\n",
       "      <td>3.000000</td>\n",
       "    </tr>\n",
       "    <tr>\n",
       "      <th>max</th>\n",
       "      <td>266.161237</td>\n",
       "      <td>4.457411</td>\n",
       "      <td>256.169843</td>\n",
       "      <td>32.223447</td>\n",
       "      <td>153.052475</td>\n",
       "      <td>122.918640</td>\n",
       "      <td>166.053416</td>\n",
       "      <td>232.949604</td>\n",
       "      <td>110.804605</td>\n",
       "      <td>175.539703</td>\n",
       "      <td>257.356521</td>\n",
       "      <td>21.594956</td>\n",
       "      <td>10.328284</td>\n",
       "      <td>177.758080</td>\n",
       "      <td>174.992017</td>\n",
       "      <td>3.000000</td>\n",
       "    </tr>\n",
       "  </tbody>\n",
       "</table>\n",
       "</div>"
      ],
      "text/plain": [
       "                   A              B              C              D  \\\n",
       "count  672000.000000  672000.000000  672000.000000  672000.000000   \n",
       "mean       50.525268     -18.832906      71.492735     -13.527466   \n",
       "std       129.190136      14.464993     105.230640      46.895533   \n",
       "min       -73.089401     -83.223570     -59.396519    -137.490156   \n",
       "25%       -37.944022     -17.863878       7.550170     -14.717010   \n",
       "50%       -31.992405     -13.694468      13.473164      10.591813   \n",
       "75%       227.980620     -10.560160     212.275156      19.559539   \n",
       "max       266.161237       4.457411     256.169843      32.223447   \n",
       "\n",
       "                   E              F              G              H  \\\n",
       "count  672000.000000  672000.000000  672000.000000  672000.000000   \n",
       "mean       29.347490      -6.256262      31.672198      50.984979   \n",
       "std        72.788486      73.049501      66.566010     103.362730   \n",
       "min       -38.298257    -148.591728     -64.477157     -42.460894   \n",
       "25%       -24.362737     -30.734880      -3.483618     -26.310379   \n",
       "50%       -18.994289     -24.760462       1.489937     -18.297642   \n",
       "75%       128.875443      78.291052     115.140273     191.559137   \n",
       "max       153.052475     122.918640     166.053416     232.949604   \n",
       "\n",
       "                   I              J              K              L  \\\n",
       "count  672000.000000  672000.000000  672000.000000  672000.000000   \n",
       "mean       32.937747      40.865824      79.246846      -6.732587   \n",
       "std        42.161295      76.921441      94.800054      15.574137   \n",
       "min       -17.705980    -112.384444     -14.152332     -62.718276   \n",
       "25%        -7.601574      21.089268       2.404117      -8.860204   \n",
       "50%        -0.898131      27.169660      12.717691      -1.066143   \n",
       "75%        79.830577     125.345913     204.593454       3.344238   \n",
       "max       110.804605     175.539703     257.356521      21.594956   \n",
       "\n",
       "                   M              N              O          Class  \n",
       "count  672000.000000  672000.000000  672000.000000  672000.000000  \n",
       "mean      -42.339880      49.396782      59.712785       2.166042  \n",
       "std        17.909028      67.261737      66.751650       0.686972  \n",
       "min       -80.393454     -20.309609     -12.762138       1.000000  \n",
       "25%       -55.676535      -7.137705       0.164628       2.000000  \n",
       "50%       -52.983461       1.843428       8.847949       2.000000  \n",
       "75%       -22.100853     136.346344     145.094506       3.000000  \n",
       "max        10.328284     177.758080     174.992017       3.000000  "
      ]
     },
     "execution_count": 54,
     "metadata": {},
     "output_type": "execute_result"
    }
   ],
   "source": [
    "pub_train.describe()"
   ]
  },
  {
   "cell_type": "code",
   "execution_count": 55,
   "metadata": {},
   "outputs": [
    {
     "data": {
      "text/plain": [
       "Pipeline(memory=None,\n",
       "     steps=[('preprocessor', PCA(copy=True, iterated_power='auto', n_components=4, random_state=None,\n",
       "  svd_solver='auto', tol=0.0, whiten=False)), ('classifier', RandomForestClassifier(bootstrap=True, class_weight=None, criterion='gini',\n",
       "            max_depth=2, max_features='auto', max_leaf_nodes=None,...imators=20, n_jobs=None,\n",
       "            oob_score=False, random_state=0, verbose=0, warm_start=False))])"
      ]
     },
     "execution_count": 55,
     "metadata": {},
     "output_type": "execute_result"
    }
   ],
   "source": [
    "pipeline.fit(X_train, y_train)"
   ]
  },
  {
   "cell_type": "code",
   "execution_count": 56,
   "metadata": {},
   "outputs": [
    {
     "name": "stdout",
     "output_type": "stream",
     "text": [
      "              precision    recall  f1-score   support\n",
      "\n",
      "           1       1.00      1.00      1.00     60116\n",
      "           2       1.00      1.00      1.00    179542\n",
      "           3       1.00      1.00      1.00    120342\n",
      "\n",
      "   micro avg       1.00      1.00      1.00    360000\n",
      "   macro avg       1.00      1.00      1.00    360000\n",
      "weighted avg       1.00      1.00      1.00    360000\n",
      "\n",
      "[[ 60116      0      0]\n",
      " [     0 179542      0]\n",
      " [     0      0 120342]]\n"
     ]
    }
   ],
   "source": [
    "predicted = pipeline.predict(X_test)\n",
    "print(metrics.classification_report(y_test,\n",
    "predicted))\n",
    "print(metrics.confusion_matrix(y_test,\n",
    "                               predicted))"
   ]
  },
  {
   "cell_type": "code",
   "execution_count": 57,
   "metadata": {},
   "outputs": [
    {
     "data": {
      "text/plain": [
       "Pipeline(memory=None,\n",
       "     steps=[('preprocessor', PCA(copy=True, iterated_power='auto', n_components=4, random_state=None,\n",
       "  svd_solver='auto', tol=0.0, whiten=False)), ('classifier', RandomForestClassifier(bootstrap=True, class_weight=None, criterion='gini',\n",
       "            max_depth=2, max_features='auto', max_leaf_nodes=None,...imators=20, n_jobs=None,\n",
       "            oob_score=False, random_state=0, verbose=0, warm_start=False))])"
      ]
     },
     "execution_count": 57,
     "metadata": {},
     "output_type": "execute_result"
    }
   ],
   "source": [
    "pipeline.fit(X_train, y_train)"
   ]
  },
  {
   "cell_type": "code",
   "execution_count": 58,
   "metadata": {},
   "outputs": [
    {
     "name": "stderr",
     "output_type": "stream",
     "text": [
      "The maximum opset needed by this model is only 1.\n"
     ]
    }
   ],
   "source": [
    "input_types = [('float', FloatTensorType([1, 1]))]\n",
    "try:\n",
    "    model_onnx = convert_sklearn(pipeline,\n",
    "                                 'pipeline_onnx',\n",
    "                                initial_types=input_types)\n",
    "except Exception as e:\n",
    "    print(e)\n",
    "\n",
    "with open(\"pipeline.onnx\", \"wb\") as f:\n",
    "     f.write(model_onnx.SerializeToString())"
   ]
  },
  {
   "cell_type": "code",
   "execution_count": 59,
   "metadata": {},
   "outputs": [
    {
     "name": "stdout",
     "output_type": "stream",
     "text": [
      "Input NodeArg(name='float', type='tensor(float)', shape=[1, 1])\n",
      "Output NodeArg(name='output_label', type='tensor(int64)', shape=[1])\n",
      "Output NodeArg(name='output_probability', type='seq(map(int64,tensor(float)))', shape=[])\n",
      "predict [2 3 3 ... 3 2 2]\n"
     ]
    }
   ],
   "source": [
    "#inputs_onnx = {k: array(v).astype(np.float32)[:, np.newaxis] for k, v in X_test.to_dict(orient='list').items()}\n",
    "#print(inputs_onnx)\n",
    "#print(len(inputs_onnx))\n",
    "#tmp = X_test[\"I\"]\n",
    "#print(X_test.describe())\n",
    "#inputs_onnx = {k: np.array(v).astype(np.float32)[:, np.newaxis] for k, v in tmp.to_dict(orient='list').items()}\n",
    "\n",
    "session_onnx = rt.InferenceSession(\"pipeline.onnx\")\n",
    "for i in session_onnx.get_inputs():\n",
    "    print('Input', i)\n",
    "for k in session_onnx.get_outputs():\n",
    "    print('Output', k)\n",
    "predict_onnx = session_onnx.run(None, {'float': X_test.values.astype(np.float32)})\n",
    "print(\"predict\", predict_onnx[0])"
   ]
  },
  {
   "cell_type": "code",
   "execution_count": 61,
   "metadata": {},
   "outputs": [
    {
     "name": "stdout",
     "output_type": "stream",
     "text": [
      "              precision    recall  f1-score   support\n",
      "\n",
      "           1       1.00      1.00      1.00     60116\n",
      "           2       1.00      1.00      1.00    179542\n",
      "           3       1.00      1.00      1.00    120342\n",
      "\n",
      "   micro avg       1.00      1.00      1.00    360000\n",
      "   macro avg       1.00      1.00      1.00    360000\n",
      "weighted avg       1.00      1.00      1.00    360000\n",
      "\n"
     ]
    }
   ],
   "source": [
    "print(metrics.classification_report(y_test,\n",
    "                                    predict_onnx[0]))"
   ]
  },
  {
   "cell_type": "code",
   "execution_count": 62,
   "metadata": {},
   "outputs": [
    {
     "data": {
      "text/plain": [
       "(-0.5, 1947.5, 3497.5, -0.5)"
      ]
     },
     "execution_count": 62,
     "metadata": {},
     "output_type": "execute_result"
    },
    {
     "data": {
      "image/png": "[encoded data removed]",
      "text/plain": [
       "<Figure size 2880x1440 with 1 Axes>"
      ]
     },
     "metadata": {},
     "output_type": "display_data"
    }
   ],
   "source": [
    "pydot_graph = GetPydotGraph(model_onnx.graph,\n",
    "                            name=model_onnx.graph.name,\n",
    "                            rankdir=\"TB\",\n",
    "                            node_producer=GetOpNodeProducer(\"docstring\",\n",
    "                                                            color=\"yellow\",\n",
    "                                                            fillcolor=\"yellow\",\n",
    "                                                            style=\"filled\"))\n",
    "pydot_graph.write_dot(\"iris_pipeline.dot\")\n",
    "\n",
    "os.system('dot -O -Gdpi=300 -Tpng iris_pipeline.dot')\n",
    "\n",
    "image = plt.imread(\"iris_pipeline.dot.png\")\n",
    "fig, ax = plt.subplots(figsize=(40, 20))\n",
    "ax.imshow(image)\n",
    "ax.axis('off')"
   ]
  },
  {
   "cell_type": "markdown",
   "metadata": {},
   "source": [
    "## Conclusion - Positive/Negative results, recommendations, caveats/cautions.\n",
    "The conclusion from this project is that the data is highly skewed and homogenous. Considering that most of the features correlate to the target class we have a biased dataset that will generate a highly overfitted model. Even with the measures taken to minimize the overfitting factors like using a random forest with 20 trees we still run into the problem that with the size of the dataset we will probably overfit. Also the assumption that the variance of the dataset is representative of the population can be misleading. So far it has worked for us when we divide the dataset into 30/70 test/train sets. But outside sample data could have a different variance direction that can make the model inefficient. The best thing to do is get a more representative dataset to train your data. In conclusion the model could be more efficientally tuned if the dataset provide was a solid dataset.\n"
   ]
  },
  {
   "cell_type": "markdown",
   "metadata": {},
   "source": [
    "- Data Sources - Links, downloads, access information.•\n",
    "\n",
    "https://machinelearningmastery.com/k-fold-cross-validation/\n",
    "https://scikit-learn.org/0.18/auto_examples/plot_digits_pipe.html\n",
    "https://towardsdatascience.com/the-random-forest-algorithm-d457d499ffcd\n",
    "https://matplotlib.org/gallery/pyplots/pyplot_text.html#sphx-glr-gallery-pyplots-pyplot-text-py"
   ]
  }
 ],
 "metadata": {
  "kernelspec": {
   "display_name": "Python 3",
   "language": "python",
   "name": "python3"
  },
  "language_info": {
   "codemirror_mode": {
    "name": "ipython",
    "version": 3
   },
   "file_extension": ".py",
   "mimetype": "text/x-python",
   "name": "python",
   "nbconvert_exporter": "python",
   "pygments_lexer": "ipython3",
   "version": "3.6.8"
  }
 },
 "nbformat": 4,
 "nbformat_minor": 2
}
